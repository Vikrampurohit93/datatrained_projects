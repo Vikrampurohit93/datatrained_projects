{
 "cells": [
  {
   "cell_type": "markdown",
   "id": "31e76b63",
   "metadata": {},
   "source": [
    "# LOAN PREDICTION"
   ]
  },
  {
   "cell_type": "code",
   "execution_count": null,
   "id": "8a5431c2",
   "metadata": {},
   "outputs": [],
   "source": [
    "!pip3 install imblearn"
   ]
  },
  {
   "cell_type": "code",
   "execution_count": null,
   "id": "15b0ad9b",
   "metadata": {},
   "outputs": [],
   "source": [
    "#IMPORTING NEEDED LIBRARIES\n",
    "import pandas as pd\n",
    "import numpy as np\n",
    "import seaborn as sns\n",
    "import matplotlib.pyplot as plt\n",
    "import warnings\n",
    "warnings.filterwarnings('ignore')\n"
   ]
  },
  {
   "cell_type": "code",
   "execution_count": null,
   "id": "6bf45029",
   "metadata": {},
   "outputs": [],
   "source": [
    "df=pd.read_csv(r'Loan_Application.csv')\n",
    "df"
   ]
  },
  {
   "cell_type": "code",
   "execution_count": null,
   "id": "c1352105",
   "metadata": {},
   "outputs": [],
   "source": [
    "df.columns"
   ]
  },
  {
   "cell_type": "code",
   "execution_count": null,
   "id": "68cb5ed2",
   "metadata": {},
   "outputs": [],
   "source": [
    "df.dtypes"
   ]
  },
  {
   "cell_type": "code",
   "execution_count": null,
   "id": "c59a6667",
   "metadata": {},
   "outputs": [],
   "source": [
    "df.shape"
   ]
  },
  {
   "cell_type": "code",
   "execution_count": null,
   "id": "8d411271",
   "metadata": {},
   "outputs": [],
   "source": [
    "df.sample()"
   ]
  },
  {
   "cell_type": "markdown",
   "id": "f299a228",
   "metadata": {},
   "source": [
    "# EDA (EXPLORATORY DATA ANALYSIS)"
   ]
  },
  {
   "cell_type": "code",
   "execution_count": null,
   "id": "57d311bf",
   "metadata": {},
   "outputs": [],
   "source": [
    "df.isnull().sum()"
   ]
  },
  {
   "cell_type": "code",
   "execution_count": null,
   "id": "472fd780",
   "metadata": {},
   "outputs": [],
   "source": [
    "plt.figure(figsize=(12,10))\n",
    "sns.heatmap(df.isnull())"
   ]
  },
  {
   "cell_type": "code",
   "execution_count": null,
   "id": "531651c8",
   "metadata": {},
   "outputs": [],
   "source": [
    "df['Gender'].value_counts() # can be filled with mode"
   ]
  },
  {
   "cell_type": "code",
   "execution_count": null,
   "id": "d7595fa7",
   "metadata": {},
   "outputs": [],
   "source": [
    "df['Married'].value_counts() # can be filled with mode"
   ]
  },
  {
   "cell_type": "code",
   "execution_count": null,
   "id": "dadca9c8",
   "metadata": {},
   "outputs": [],
   "source": [
    "df[df['Married'].isnull()]"
   ]
  },
  {
   "cell_type": "code",
   "execution_count": null,
   "id": "a3c709cf",
   "metadata": {
    "scrolled": true
   },
   "outputs": [],
   "source": [
    "df['Dependents'].value_counts() #fill nan with mode"
   ]
  },
  {
   "cell_type": "code",
   "execution_count": null,
   "id": "67650749",
   "metadata": {},
   "outputs": [],
   "source": [
    "df['Self_Employed'].value_counts() # fill nan values with mode"
   ]
  },
  {
   "cell_type": "code",
   "execution_count": null,
   "id": "14e0b103",
   "metadata": {},
   "outputs": [],
   "source": [
    "df['LoanAmount'].value_counts() # fill nan with mean"
   ]
  },
  {
   "cell_type": "code",
   "execution_count": null,
   "id": "0aa137e2",
   "metadata": {},
   "outputs": [],
   "source": [
    "df['Loan_Amount_Term'].value_counts() # fill nan values with mean"
   ]
  },
  {
   "cell_type": "code",
   "execution_count": null,
   "id": "93c7faec",
   "metadata": {},
   "outputs": [],
   "source": [
    "np.mean(df['Loan_Amount_Term'])"
   ]
  },
  {
   "cell_type": "code",
   "execution_count": null,
   "id": "39f42b02",
   "metadata": {},
   "outputs": [],
   "source": [
    "df['Credit_History'].value_counts()"
   ]
  },
  {
   "cell_type": "code",
   "execution_count": null,
   "id": "c1587456",
   "metadata": {},
   "outputs": [],
   "source": [
    "df['Married'].fillna(df['Married'].mode()[0],inplace=True)\n",
    "df['Self_Employed'].fillna(df['Self_Employed'].mode()[0],inplace=True)\n",
    "df['Dependents'].fillna(df['Dependents'].mode()[0],inplace=True)\n",
    "df['Gender'].fillna(df['Gender'].mode()[0],inplace=True)\n",
    "df['Credit_History'].fillna(df['Credit_History'].mode()[0],inplace=True)\n",
    "df.head()\n"
   ]
  },
  {
   "cell_type": "code",
   "execution_count": null,
   "id": "2025c5fd",
   "metadata": {
    "scrolled": true
   },
   "outputs": [],
   "source": [
    "df['Loan_Amount_Term']=df['Loan_Amount_Term'].fillna(np.mean(df['Loan_Amount_Term']))\n",
    "df['LoanAmount']=df['LoanAmount'].fillna(np.mean(df['LoanAmount']))\n",
    "df"
   ]
  },
  {
   "cell_type": "code",
   "execution_count": null,
   "id": "eb25fbef",
   "metadata": {},
   "outputs": [],
   "source": [
    "plt.figure(figsize=(12,10))\n",
    "sns.heatmap(df.isnull())"
   ]
  },
  {
   "cell_type": "markdown",
   "id": "e64c26f8",
   "metadata": {},
   "source": [
    "ALL NULL VALUES FILLED"
   ]
  },
  {
   "cell_type": "code",
   "execution_count": null,
   "id": "919a4227",
   "metadata": {},
   "outputs": [],
   "source": [
    "df.describe()"
   ]
  },
  {
   "cell_type": "markdown",
   "id": "9f0b6d52",
   "metadata": {},
   "source": [
    "SKEWNESS PRESENT AND DEVIATION SEEN IN SOME COLUMNS"
   ]
  },
  {
   "cell_type": "code",
   "execution_count": null,
   "id": "0e205c58",
   "metadata": {},
   "outputs": [],
   "source": [
    "plt.figure(figsize=(10,8))\n",
    "\n",
    "plt.title(\"Credit_History\",fontsize= 25,\n",
    "        fontweight =200,\n",
    "        color = 'blue',)\n",
    "\n",
    "sns.countplot(data=df,x='Credit_History',hue='Loan_Status')\n"
   ]
  },
  {
   "cell_type": "code",
   "execution_count": null,
   "id": "9201ef52",
   "metadata": {},
   "outputs": [],
   "source": [
    "plt.figure(figsize=(10,8))\n",
    "\n",
    "plt.title(\"Education\",fontsize= 25,\n",
    "        fontweight =200,\n",
    "        color = 'blue',)\n",
    "\n",
    "sns.countplot(data=df,x='Education',hue='Loan_Status')\n"
   ]
  },
  {
   "cell_type": "markdown",
   "id": "2eb342a1",
   "metadata": {},
   "source": []
  },
  {
   "cell_type": "code",
   "execution_count": null,
   "id": "aaad083c",
   "metadata": {},
   "outputs": [],
   "source": [
    "plt.figure(figsize=(20,10))\n",
    "\n",
    "\n",
    "colors=sns.color_palette('viridis')\n",
    "labels=df['Dependents'].dropna().unique()\n",
    "\n",
    "plt.subplot(1,2,1)\n",
    "\n",
    "plt.title('Dependents',fontsize= 25,\n",
    "        fontweight =200,\n",
    "        color = 'blue')\n",
    "plt.pie(df['Dependents'].value_counts(), \n",
    "        labels=labels, \n",
    "        colors=colors, \n",
    "        autopct='%.2f%%')\n",
    "\n",
    "\n",
    "plt.subplot(1,2,2)\n",
    "\n",
    "plt.title('Self_Employed loan status',fontsize= 25,\n",
    "        fontweight =200,\n",
    "        color = 'blue',)\n",
    "\n",
    "\n",
    "\n",
    "sns.countplot(x=\"Self_Employed\", data=df, palette=colors,hue='Loan_Status')"
   ]
  },
  {
   "cell_type": "code",
   "execution_count": null,
   "id": "97227556",
   "metadata": {},
   "outputs": [],
   "source": [
    "sns.set(style=\"darkgrid\")\n",
    "fig, axs = plt.subplots(2, 2, figsize=(18, 14))\n",
    "\n",
    "sns.histplot(data=df, x=\"LoanAmount\", kde=True, ax=axs[0, 0], color='green')\n",
    "sns.histplot(data=df, x=\"ApplicantIncome\", kde=True, ax=axs[0, 1], color='skyblue')\n",
    "sns.histplot(data=df, x=\"Loan_Amount_Term\", kde=True, ax=axs[1, 0], color='black')\n",
    "sns.histplot(data=df, x=\"CoapplicantIncome\", kde=True, ax=axs[1, 1] ,color='yellow')"
   ]
  },
  {
   "cell_type": "markdown",
   "id": "04dfa436",
   "metadata": {},
   "source": []
  },
  {
   "cell_type": "code",
   "execution_count": null,
   "id": "d2ceb766",
   "metadata": {},
   "outputs": [],
   "source": [
    "plt.figure(figsize=(10,8))\n",
    "\n",
    "plt.title(\"Loan status\",fontsize= 25,\n",
    "        fontweight =200,\n",
    "        color = 'blue',)\n",
    "\n",
    "sns.countplot(data=df,x='Married',hue='Loan_Status')\n"
   ]
  },
  {
   "cell_type": "markdown",
   "id": "9140fee2",
   "metadata": {},
   "source": [
    "# Handling Categorical Data\n",
    "\n",
    "One can find many ways to handle categorical data. Some of them categorical data are,\n",
    "\n",
    "Nominal data --> data are not in any order --> OneHotEncoder is used in this case\n",
    "\n",
    "Ordinal data --> data are in order --> LabelEncoder is used in this case"
   ]
  },
  {
   "cell_type": "code",
   "execution_count": null,
   "id": "d6ee9dd8",
   "metadata": {},
   "outputs": [],
   "source": [
    "df.dtypes"
   ]
  },
  {
   "cell_type": "code",
   "execution_count": null,
   "id": "f089a805",
   "metadata": {},
   "outputs": [],
   "source": [
    "# As BELOW ARE Nominal Categorical data we will perform OneHotEncoding\n",
    "\n",
    "Married = df[[\"Married\"]]\n",
    "Education = df[[\"Education\"]]\n",
    "Self_Employed = df[[\"Self_Employed\"]]\n",
    "\n",
    "\n",
    "\n",
    "Married = pd.get_dummies(Married, drop_first= True)\n",
    "Education = pd.get_dummies(Education, drop_first= True)\n",
    "Self_Employed = pd.get_dummies(Self_Employed, drop_first= True)\n"
   ]
  },
  {
   "cell_type": "code",
   "execution_count": null,
   "id": "21601ac5",
   "metadata": {},
   "outputs": [],
   "source": [
    "# Concatenate dataframe --> train_data + Airline + Source + Destination\n",
    "\n",
    "df = pd.concat([df, Married, Education,Self_Employed], axis = 1)"
   ]
  },
  {
   "cell_type": "code",
   "execution_count": null,
   "id": "96147647",
   "metadata": {},
   "outputs": [],
   "source": [
    "df.head()"
   ]
  },
  {
   "cell_type": "markdown",
   "id": "f0c8df84",
   "metadata": {},
   "source": [
    "# Label Encoding \n"
   ]
  },
  {
   "cell_type": "code",
   "execution_count": null,
   "id": "78795248",
   "metadata": {},
   "outputs": [],
   "source": [
    "# APLLYING LABEL ENCODER TO REST AS THEY ARE ORDINAL DATA\n",
    "\n",
    "from sklearn.preprocessing import LabelEncoder\n",
    "LE = LabelEncoder()"
   ]
  },
  {
   "cell_type": "code",
   "execution_count": null,
   "id": "c09e4d83",
   "metadata": {},
   "outputs": [],
   "source": [
    "df['Dependents'] = LE.fit_transform(df['Dependents'])\n",
    "df['Loan_Status'] = LE.fit_transform(df['Loan_Status'])\n",
    "df['Property_Area'] = LE.fit_transform(df['Property_Area'])\n"
   ]
  },
  {
   "cell_type": "code",
   "execution_count": null,
   "id": "0e22fdb4",
   "metadata": {},
   "outputs": [],
   "source": [
    "df.head()"
   ]
  },
  {
   "cell_type": "code",
   "execution_count": null,
   "id": "73f24df2",
   "metadata": {},
   "outputs": [],
   "source": [
    "df.drop([\"Loan_ID\",\"Gender\", \"Married\", \"Education\",\"Self_Employed\"], axis = 1, inplace = True)\n",
    "df.head()"
   ]
  },
  {
   "cell_type": "markdown",
   "id": "fc9968d5",
   "metadata": {},
   "source": [
    "# CORRELATION"
   ]
  },
  {
   "cell_type": "code",
   "execution_count": null,
   "id": "6a45dacb",
   "metadata": {},
   "outputs": [],
   "source": [
    "df.corr()"
   ]
  },
  {
   "cell_type": "code",
   "execution_count": null,
   "id": "2d676a44",
   "metadata": {},
   "outputs": [],
   "source": [
    "plt.figure(figsize=(22,15))\n",
    "sns.heatmap(df.corr(),cmap='Pastel2',annot=True,linecolor='Black',linewidths=.2)"
   ]
  },
  {
   "cell_type": "markdown",
   "id": "8fbca249",
   "metadata": {},
   "source": [
    "LOAN AMOUNT AND APPLICANT INCOME ARE CORRELATED\n",
    "\n",
    "CREDIT HISTORY AND LOAN STATUS ARE ALSO HIGH CORRELATED\n",
    "\n"
   ]
  },
  {
   "cell_type": "markdown",
   "id": "611dd123",
   "metadata": {},
   "source": [
    "# CHECKING OUTLIERS"
   ]
  },
  {
   "cell_type": "code",
   "execution_count": null,
   "id": "f190a8f3",
   "metadata": {},
   "outputs": [],
   "source": [
    "df.plot(kind='box',subplots=True,layout=(4,3),figsize=(10,15))\n",
    "plt.tight_layout()\n"
   ]
  },
  {
   "cell_type": "markdown",
   "id": "7b7c4da2",
   "metadata": {},
   "source": [
    "OUTLIERS ARE PRESENT HENCE REMOVING IT\n",
    "\n",
    "# Removing Outliers\n",
    "\n",
    "by zscore"
   ]
  },
  {
   "cell_type": "code",
   "execution_count": null,
   "id": "068345eb",
   "metadata": {},
   "outputs": [],
   "source": [
    "from scipy.stats import zscore\n",
    "\n",
    "z=np.abs(zscore(df))\n",
    "z"
   ]
  },
  {
   "cell_type": "code",
   "execution_count": null,
   "id": "f07be795",
   "metadata": {},
   "outputs": [],
   "source": [
    "threshold=3\n",
    "print(np.where(z>3))"
   ]
  },
  {
   "cell_type": "code",
   "execution_count": null,
   "id": "dd726b0c",
   "metadata": {},
   "outputs": [],
   "source": [
    "df1=df[(z<3).all(axis=1)]\n",
    "df1\n"
   ]
  },
  {
   "cell_type": "markdown",
   "id": "ca1ebc57",
   "metadata": {},
   "source": [
    "# Percentage loss"
   ]
  },
  {
   "cell_type": "code",
   "execution_count": null,
   "id": "73cb4751",
   "metadata": {},
   "outputs": [],
   "source": [
    "loss_percent=(614-577)/577*100\n",
    "print(loss_percent,'%')"
   ]
  },
  {
   "cell_type": "markdown",
   "id": "a2e4217f",
   "metadata": {},
   "source": [
    "# Separating Dataset"
   ]
  },
  {
   "cell_type": "code",
   "execution_count": null,
   "id": "476946ed",
   "metadata": {},
   "outputs": [],
   "source": [
    "#independent column\n",
    "x=df1.drop(['Loan_Status'],axis=1)\n",
    "#target\n",
    "y=df1['Loan_Status']"
   ]
  },
  {
   "cell_type": "code",
   "execution_count": null,
   "id": "7e48a2df",
   "metadata": {},
   "outputs": [],
   "source": [
    "x.shape"
   ]
  },
  {
   "cell_type": "code",
   "execution_count": null,
   "id": "fea9a665",
   "metadata": {},
   "outputs": [],
   "source": [
    "y.shape"
   ]
  },
  {
   "cell_type": "markdown",
   "id": "90675982",
   "metadata": {},
   "source": [
    "# skewness check"
   ]
  },
  {
   "cell_type": "code",
   "execution_count": null,
   "id": "761cca3b",
   "metadata": {},
   "outputs": [],
   "source": [
    "df1.skew()"
   ]
  },
  {
   "cell_type": "code",
   "execution_count": null,
   "id": "1e9a8eec",
   "metadata": {},
   "outputs": [],
   "source": [
    "plt.figure(figsize=(20,25),facecolor='white')\n",
    "plotnumber=1\n",
    "for column in df.columns:\n",
    "    if plotnumber<=11:\n",
    "        ax=plt.subplot(4,3,plotnumber)\n",
    "        sns.distplot(df1[column])\n",
    "        plt.xlabel(column,fontsize=20)\n",
    "    plotnumber+=1\n",
    "plt.show()"
   ]
  },
  {
   "cell_type": "markdown",
   "id": "3b8e9d34",
   "metadata": {},
   "source": [
    "APPLICANT AND CO APPLICANT INCOME ARE HAVING SOME RIGHT SKEWNESS\n",
    "\n",
    "LOAN AMOUNT SEEM TO BE NORMALLY DISTRIBUTED\n",
    "\n",
    "REMOVING SKEWNESS\n"
   ]
  },
  {
   "cell_type": "code",
   "execution_count": null,
   "id": "3c4a334d",
   "metadata": {},
   "outputs": [],
   "source": [
    "from sklearn.preprocessing import power_transform\n",
    "df1=power_transform(x,method='yeo-johnson')\n",
    "df1"
   ]
  },
  {
   "cell_type": "markdown",
   "id": "45e8e957",
   "metadata": {},
   "source": [
    "# Scaling"
   ]
  },
  {
   "cell_type": "code",
   "execution_count": null,
   "id": "6e745e7c",
   "metadata": {},
   "outputs": [],
   "source": [
    "from sklearn.preprocessing import StandardScaler\n",
    "sc=StandardScaler()\n",
    "x=sc.fit_transform(x)\n",
    "x"
   ]
  },
  {
   "cell_type": "markdown",
   "id": "f97d98ee",
   "metadata": {},
   "source": [
    "# SMOTE FOR BALANCING DATA"
   ]
  },
  {
   "cell_type": "code",
   "execution_count": null,
   "id": "67bfb916",
   "metadata": {},
   "outputs": [],
   "source": [
    "#SMOTE(synthetic Minority over sampling technique)\n",
    "#It's use for Balancing the dataset\n",
    "\n",
    "from imblearn.over_sampling import SMOTE\n",
    "sm=SMOTE()\n",
    "\n",
    "x_train,y_train=sm.fit_resample(x,y)\n",
    "y_train"
   ]
  },
  {
   "cell_type": "code",
   "execution_count": null,
   "id": "1ef8fc16",
   "metadata": {},
   "outputs": [],
   "source": [
    "y_train.value_counts()"
   ]
  },
  {
   "cell_type": "code",
   "execution_count": null,
   "id": "f3af38ca",
   "metadata": {},
   "outputs": [],
   "source": [
    "sns.countplot(y_train)"
   ]
  },
  {
   "cell_type": "markdown",
   "id": "26e73326",
   "metadata": {},
   "source": [
    "DATA IS NOW BALANCED"
   ]
  },
  {
   "cell_type": "markdown",
   "id": "a3f878ac",
   "metadata": {},
   "source": [
    "# Splitting the DataFrame"
   ]
  },
  {
   "cell_type": "code",
   "execution_count": null,
   "id": "b1204923",
   "metadata": {},
   "outputs": [],
   "source": [
    "from sklearn.model_selection import train_test_split\n",
    "x_train,x_test,y_train,y_test=train_test_split(x,y,test_size=0.22,random_state=12)"
   ]
  },
  {
   "cell_type": "markdown",
   "id": "3276f14c",
   "metadata": {},
   "source": [
    "# 1) LogisticRegression"
   ]
  },
  {
   "cell_type": "code",
   "execution_count": null,
   "id": "bfc75d3a",
   "metadata": {},
   "outputs": [],
   "source": [
    "from sklearn.linear_model import LogisticRegression\n",
    "from sklearn.metrics import accuracy_score\n",
    "from sklearn.metrics import classification_report,confusion_matrix\n",
    "\n",
    "lo=LogisticRegression()\n",
    "lo.fit(x_train,y_train)\n",
    "lo.score(x_train,y_train)\n",
    "predlo=lo.predict(x_test)\n",
    "\n",
    "print('Accuracy Score is''\\n',accuracy_score(y_test,predlo))\n",
    "print('Confusion Matrix''\\n',confusion_matrix(y_test,predlo))\n",
    "print(classification_report(y_test,predlo))"
   ]
  },
  {
   "cell_type": "markdown",
   "id": "44656f79",
   "metadata": {},
   "source": [
    "### Cross Validation"
   ]
  },
  {
   "cell_type": "code",
   "execution_count": null,
   "id": "abfa592b",
   "metadata": {},
   "outputs": [],
   "source": [
    "test_accuracy= accuracy_score(y_test,predlo)\n",
    "\n",
    "from sklearn.model_selection import cross_val_score\n",
    "for i in range(2,10):\n",
    "    cv_score=cross_val_score(lo,x,y,cv=i,n_jobs=2)\n",
    "    cv_mean=cv_score.mean()\n",
    "    print(f\"At cross fold {i} the Cross Val score is {cv_mean*100} and Accuracy score is {test_accuracy*100}\")"
   ]
  },
  {
   "cell_type": "markdown",
   "id": "90f4a0f7",
   "metadata": {},
   "source": [
    "**LOGISTIC REGRESSION IS GIVING VERY GOOD ACCURACY SCORE BUT DIFFERENCE IS BIT HIGH**\n",
    "\n",
    "###### TRYING OTHER MODELS\n",
    "\n",
    "\n",
    "# 2) DecisionTreeClassifier"
   ]
  },
  {
   "cell_type": "code",
   "execution_count": null,
   "id": "adac1e19",
   "metadata": {},
   "outputs": [],
   "source": [
    "from sklearn.tree import DecisionTreeClassifier\n",
    "\n",
    "dt=DecisionTreeClassifier()\n",
    "dt.fit(x_train,y_train)\n",
    "pred_dt=dt.predict(x_test)\n",
    "print('Accuracy score''\\n',accuracy_score(y_test,pred_dt))\n",
    "print('Confusion Matrix''\\n',confusion_matrix(y_test,pred_dt))\n",
    "print('Classification Report''\\n',classification_report(y_test,pred_dt))"
   ]
  },
  {
   "cell_type": "markdown",
   "id": "c6845e9c",
   "metadata": {},
   "source": [
    "### Cross Validation"
   ]
  },
  {
   "cell_type": "code",
   "execution_count": null,
   "id": "bd96048c",
   "metadata": {},
   "outputs": [],
   "source": [
    "test_accuracy= accuracy_score(y_test,pred_dt)\n",
    "\n",
    "from sklearn.model_selection import cross_val_score\n",
    "for i in range(2,10):\n",
    "    cv_score=cross_val_score(dt,x,y,cv=i)\n",
    "    cv_mean=cv_score.mean()\n",
    "    print(f\"At cross fold {i} the Cross Val score is {cv_mean*100} and Accuracy score is {test_accuracy*100}\")"
   ]
  },
  {
   "cell_type": "markdown",
   "id": "2eaa5900",
   "metadata": {},
   "source": [
    "**DecisionTreeClassifier IS FITTING WELL IN MODEL BUT LETS TRY OTHER MODEL FOR BETTER ACCURACY SCORE**\n",
    "\n",
    "\n",
    "# 3) RandomForestClassifier"
   ]
  },
  {
   "cell_type": "code",
   "execution_count": null,
   "id": "7c118cb9",
   "metadata": {},
   "outputs": [],
   "source": [
    "from sklearn.ensemble import RandomForestClassifier\n",
    "\n",
    "rfc=RandomForestClassifier()\n",
    "rfc.fit(x_train,y_train)\n",
    "pred_rfc=rfc.predict(x_test)\n",
    "print('Accuracy score''\\n',accuracy_score(y_test,pred_rfc))\n",
    "print('Confusion Matrix''\\n',confusion_matrix(y_test,pred_rfc))\n",
    "print('Classification Report''\\n',classification_report(y_test,pred_rfc))"
   ]
  },
  {
   "cell_type": "markdown",
   "id": "879a694c",
   "metadata": {},
   "source": [
    "### Cross Validation"
   ]
  },
  {
   "cell_type": "code",
   "execution_count": null,
   "id": "8bb138b0",
   "metadata": {},
   "outputs": [],
   "source": [
    "test_accuracy= accuracy_score(y_test,pred_rfc)\n",
    "\n",
    "from sklearn.model_selection import cross_val_score\n",
    "for i in range(2,10):\n",
    "    cv_score=cross_val_score(rfc,x,y,cv=i,n_jobs=2)\n",
    "    cv_mean=cv_score.mean()\n",
    "    print(f\"At cross fold {i} the Cross Val score is {cv_mean*100} and Accuracy score is {test_accuracy*100}\")"
   ]
  },
  {
   "cell_type": "markdown",
   "id": "3fb557f2",
   "metadata": {},
   "source": [
    "**RandomForestClassifier is giving good accuracy score but less cv score,lets try other model**\n",
    "\n",
    "\n",
    "# 4) SUPPORT VECTOR CLASSIFIER"
   ]
  },
  {
   "cell_type": "code",
   "execution_count": null,
   "id": "d9e45641",
   "metadata": {},
   "outputs": [],
   "source": [
    "from sklearn.svm import SVC\n",
    "\n",
    "svc=SVC()\n",
    "svc.fit(x_train,y_train)\n",
    "pred_svc=svc.predict(x_test)\n",
    "print('Accuracy score''\\n',accuracy_score(y_test,pred_svc))\n",
    "print('Confusion Matrix''\\n',confusion_matrix(y_test,pred_svc))\n",
    "print('Classification Report''\\n',classification_report(y_test,pred_svc))"
   ]
  },
  {
   "cell_type": "markdown",
   "id": "ea712323",
   "metadata": {},
   "source": [
    "### Cross Validation"
   ]
  },
  {
   "cell_type": "code",
   "execution_count": null,
   "id": "a5534f5f",
   "metadata": {},
   "outputs": [],
   "source": [
    "test_accuracy= accuracy_score(y_test,pred_svc)\n",
    "\n",
    "from sklearn.model_selection import cross_val_score\n",
    "for i in range(2,10):\n",
    "    cv_score=cross_val_score(svc,x,y,cv=i,n_jobs=2)\n",
    "    cv_mean=cv_score.mean()\n",
    "    print(f\"At cross fold {i} the Cross Val score is {cv_mean*100} and Accuracy score is {test_accuracy*100}\")"
   ]
  },
  {
   "cell_type": "markdown",
   "id": "dc075310",
   "metadata": {},
   "source": [
    "**supportvector classifier is giving good accuracy score lets try other model**\n",
    "\n",
    "# 5) GradientBoostingClassifier"
   ]
  },
  {
   "cell_type": "code",
   "execution_count": null,
   "id": "1c8fcc6d",
   "metadata": {},
   "outputs": [],
   "source": [
    "\n",
    "# Gradient Boosting Classifier\n",
    "from sklearn.ensemble import GradientBoostingClassifier\n",
    "\n",
    "gbk = GradientBoostingClassifier()\n",
    "gbk.fit(x_train, y_train)\n",
    "pred_gbk = gbk.predict(x_test)\n",
    "print('Accuracy score''\\n',accuracy_score(pred_gbk,y_test))\n",
    "print('Confusion Matrix''\\n',confusion_matrix(y_test,pred_gbk))\n",
    "print('Classification Report''\\n',classification_report(y_test,pred_gbk))\n"
   ]
  },
  {
   "cell_type": "markdown",
   "id": "4932ee5f",
   "metadata": {},
   "source": [
    "### Cross Validation"
   ]
  },
  {
   "cell_type": "code",
   "execution_count": null,
   "id": "655103ff",
   "metadata": {},
   "outputs": [],
   "source": [
    "test_accuracy= accuracy_score(y_test,pred_gbk)\n",
    "\n",
    "from sklearn.model_selection import cross_val_score\n",
    "for i in range(2,10):\n",
    "    cv_score=cross_val_score(gbk,x,y,cv=i,n_jobs=2)\n",
    "    cv_mean=cv_score.mean()\n",
    "    print(f\"At cross fold {i} the Cross Val score is {cv_mean*100} and Accuracy score is {test_accuracy*100}\")"
   ]
  },
  {
   "cell_type": "markdown",
   "id": "b2966e17",
   "metadata": {},
   "source": [
    "**GradientBoostingClassifier is giving good accuracy score lets try other model also**\n",
    "\n",
    "# 6) ExtraTreesClassifier"
   ]
  },
  {
   "cell_type": "code",
   "execution_count": null,
   "id": "17fe5987",
   "metadata": {},
   "outputs": [],
   "source": [
    "from sklearn.ensemble import ExtraTreesClassifier\n",
    "\n",
    "ETC=ExtraTreesClassifier()\n",
    "ETC.fit(x_train,y_train)\n",
    "pred_ETC=ETC.predict(x_test)\n",
    "print('Accuracy score''\\n',accuracy_score(y_test,pred_ETC))\n",
    "print('Confusion Matrix''\\n',confusion_matrix(y_test,pred_ETC))\n",
    "print('Classification Report''\\n',classification_report(y_test,pred_ETC))\n"
   ]
  },
  {
   "cell_type": "markdown",
   "id": "ab94269c",
   "metadata": {},
   "source": [
    "### Cross Validation"
   ]
  },
  {
   "cell_type": "code",
   "execution_count": null,
   "id": "ba3aa07b",
   "metadata": {},
   "outputs": [],
   "source": [
    "test_accuracy= accuracy_score(y_test,pred_ETC)\n",
    "\n",
    "from sklearn.model_selection import cross_val_score\n",
    "for i in range(2,10):\n",
    "    cv_score=cross_val_score(ETC,x,y,cv=i,n_jobs=3)\n",
    "    cv_mean=cv_score.mean()\n",
    "    print(f\"At cross fold {i} the Cross Val score is {cv_mean*100} and Accuracy score is {test_accuracy*100}\")"
   ]
  },
  {
   "cell_type": "markdown",
   "id": "24617165",
   "metadata": {},
   "source": [
    "**ExtraTreesClassifier is giving good accuracy score and fit in model perfectly lets try other model**\n",
    "\n",
    "\n",
    "# 7) KNeighborsClassifier\n"
   ]
  },
  {
   "cell_type": "code",
   "execution_count": null,
   "id": "c7772cbb",
   "metadata": {},
   "outputs": [],
   "source": [
    "from sklearn import neighbors\n",
    "from sklearn.neighbors import KNeighborsClassifier\n",
    "\n",
    "knc=KNeighborsClassifier()\n",
    "knc.fit(x_train,y_train)\n",
    "pred_knc=knc.predict(x_test)\n",
    "print('Accuracy score''\\n',accuracy_score(y_test,pred_knc))\n",
    "print('Confusion Matrix''\\n',confusion_matrix(y_test,pred_knc))\n",
    "print('Classification Report''\\n',classification_report(y_test,pred_knc))"
   ]
  },
  {
   "cell_type": "markdown",
   "id": "be32eebe",
   "metadata": {},
   "source": [
    "### Cross Validation"
   ]
  },
  {
   "cell_type": "code",
   "execution_count": null,
   "id": "da772150",
   "metadata": {},
   "outputs": [],
   "source": [
    "test_accuracy= accuracy_score(y_test,pred_knc)\n",
    "\n",
    "from sklearn.model_selection import cross_val_score\n",
    "for i in range(2,10):\n",
    "    cv_score=cross_val_score(knc,x,y,cv=i)\n",
    "    cv_mean=cv_score.mean()\n",
    "    print(f\"At cross fold {i} the Cross Val score is {cv_mean*100} and Accuracy score is {test_accuracy*100}\")"
   ]
  },
  {
   "cell_type": "markdown",
   "id": "a75a0240",
   "metadata": {},
   "source": [
    "**KNeighborsClassifier is also giving good accuracy score but not fits model**\n",
    "\n",
    "\n",
    "### hence best fitting model ExtraTreesClassifier is applied to hyperpaameter"
   ]
  },
  {
   "cell_type": "markdown",
   "id": "42295cba",
   "metadata": {},
   "source": [
    "# Hyper parameter tuning"
   ]
  },
  {
   "cell_type": "code",
   "execution_count": null,
   "id": "db7bc1c2",
   "metadata": {},
   "outputs": [],
   "source": [
    "from sklearn.model_selection import GridSearchCV\n",
    "\n",
    "#creating the parameter list to pass in GrideSearchcv\n",
    "parameters={'max_features':['auto','sqrt','log2'],\n",
    "           'max_depth':[4,5,6,7,8,9,10],\n",
    "           'criterion':['gini','entropy']}\n",
    "\n",
    "gcv=GridSearchCV(ExtraTreesClassifier(),parameters,cv=5,scoring=\"accuracy\")\n",
    "gcv.fit(x_train,y_train)\n",
    "gcv.best_params_"
   ]
  },
  {
   "cell_type": "code",
   "execution_count": null,
   "id": "5f131355",
   "metadata": {},
   "outputs": [],
   "source": [
    "gcv_pred=gcv.best_estimator_.predict(x_test)#predicting with best parameters\n",
    "accuracy_score(y_test,gcv_pred)#checking the final score\n",
    "\n",
    "print('Accuracy score''\\n',accuracy_score(y_test,gcv_pred))\n",
    "print('Confusion Matrix''\\n',confusion_matrix(y_test,gcv_pred))\n",
    "print('Classification Report''\\n',classification_report(y_test,gcv_pred))"
   ]
  },
  {
   "cell_type": "markdown",
   "id": "4e2f5317",
   "metadata": {},
   "source": [
    "\n",
    "**After hyperparameter tuning ExtraTreesClassifier is giving good accuracy score**\n",
    "\n",
    "##### precision, f1 score is also good so moving forward for plotting roc curve"
   ]
  },
  {
   "cell_type": "markdown",
   "id": "2bc77428",
   "metadata": {},
   "source": [
    "# ROC AUC plot"
   ]
  },
  {
   "cell_type": "code",
   "execution_count": null,
   "id": "99f3a9cd",
   "metadata": {},
   "outputs": [],
   "source": [
    "from sklearn.metrics import plot_roc_curve\n",
    "\n",
    "plot_roc_curve(gcv.best_estimator_,x_test,y_test)\n",
    "plt.title(\"ROC AUC Plot\")\n",
    "plt.show()"
   ]
  },
  {
   "cell_type": "markdown",
   "id": "bcfd5aff",
   "metadata": {},
   "source": [
    "##### accuracy score=89.76% and auc=84%"
   ]
  },
  {
   "cell_type": "markdown",
   "id": "6e48b282",
   "metadata": {},
   "source": [
    "# Final Prediction Submission"
   ]
  },
  {
   "cell_type": "code",
   "execution_count": null,
   "id": "a9ae4b98",
   "metadata": {},
   "outputs": [],
   "source": [
    "import numpy as np\n",
    "a = np.array(y_test)\n",
    "predicted = np.array(gcv.best_estimator_.predict(x_test))\n",
    "df = pd.DataFrame(zip(a,predicted), columns = [\"Original\",\"Predicted\"])\n",
    "df"
   ]
  },
  {
   "cell_type": "markdown",
   "id": "74575568",
   "metadata": {},
   "source": [
    "# Saving the best Model"
   ]
  },
  {
   "cell_type": "code",
   "execution_count": null,
   "id": "e8c7d67b",
   "metadata": {},
   "outputs": [],
   "source": [
    "# save the model to disk\n",
    "import pickle\n",
    "\n",
    "filename = 'loan_prediction.pkl'\n",
    "pickle.dump(gcv.best_estimator_, open(filename, 'wb'))\n"
   ]
  },
  {
   "cell_type": "code",
   "execution_count": null,
   "id": "dc88d2a5",
   "metadata": {},
   "outputs": [],
   "source": [
    "# load the model from disk\n",
    "\n",
    "loaded_model = pickle.load(open(filename, 'rb'))\n",
    "result = loaded_model.score(x_test,y_test)\n",
    "print(result)\n"
   ]
  },
  {
   "cell_type": "code",
   "execution_count": null,
   "id": "19e7273b",
   "metadata": {},
   "outputs": [],
   "source": []
  },
  {
   "cell_type": "code",
   "execution_count": null,
   "id": "af4df391",
   "metadata": {},
   "outputs": [],
   "source": []
  },
  {
   "cell_type": "code",
   "execution_count": null,
   "id": "5b343ddb",
   "metadata": {},
   "outputs": [],
   "source": []
  },
  {
   "cell_type": "code",
   "execution_count": null,
   "id": "093b80e3",
   "metadata": {},
   "outputs": [],
   "source": []
  }
 ],
 "metadata": {
  "kernelspec": {
   "display_name": "Python 3 (ipykernel)",
   "language": "python",
   "name": "python3"
  },
  "language_info": {
   "codemirror_mode": {
    "name": "ipython",
    "version": 3
   },
   "file_extension": ".py",
   "mimetype": "text/x-python",
   "name": "python",
   "nbconvert_exporter": "python",
   "pygments_lexer": "ipython3",
   "version": "3.9.7"
  }
 },
 "nbformat": 4,
 "nbformat_minor": 5
}
