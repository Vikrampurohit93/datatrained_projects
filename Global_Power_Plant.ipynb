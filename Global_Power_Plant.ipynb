{
 "cells": [
  {
   "cell_type": "code",
   "execution_count": null,
   "id": "eb45a6da",
   "metadata": {},
   "outputs": [],
   "source": [
    "#IMPORTING NEEDED LIBRARIES\n",
    "import pandas as pd\n",
    "import numpy as np\n",
    "import seaborn as sns\n",
    "import matplotlib.pyplot as plt\n",
    "import warnings\n",
    "warnings.filterwarnings('ignore')\n"
   ]
  },
  {
   "cell_type": "code",
   "execution_count": null,
   "id": "dce8ddfa",
   "metadata": {},
   "outputs": [],
   "source": [
    "df=pd.read_csv(\"Global_Power_Plant.csv\")\n",
    "df"
   ]
  },
  {
   "cell_type": "code",
   "execution_count": null,
   "id": "aa61a20d",
   "metadata": {},
   "outputs": [],
   "source": [
    "df.columns  \n"
   ]
  },
  {
   "cell_type": "code",
   "execution_count": null,
   "id": "88698188",
   "metadata": {},
   "outputs": [],
   "source": [
    "df.dtypes"
   ]
  },
  {
   "cell_type": "markdown",
   "id": "0e406cf8",
   "metadata": {},
   "source": [
    "# EDA (EXPLORATORY DATA ANALYSIS)"
   ]
  },
  {
   "cell_type": "code",
   "execution_count": null,
   "id": "60fd81e8",
   "metadata": {},
   "outputs": [],
   "source": [
    "df.isnull().sum()"
   ]
  },
  {
   "cell_type": "code",
   "execution_count": null,
   "id": "bd131b68",
   "metadata": {},
   "outputs": [],
   "source": [
    "plt.figure(figsize=(20,10))\n",
    "sns.heatmap(df.isnull())"
   ]
  },
  {
   "cell_type": "code",
   "execution_count": null,
   "id": "0f05679a",
   "metadata": {},
   "outputs": [],
   "source": [
    "df['owner'].value_counts()"
   ]
  },
  {
   "cell_type": "code",
   "execution_count": null,
   "id": "0193491f",
   "metadata": {},
   "outputs": [],
   "source": [
    "df['geolocation_source'].value_counts()"
   ]
  },
  {
   "cell_type": "code",
   "execution_count": null,
   "id": "007fdf3d",
   "metadata": {},
   "outputs": [],
   "source": [
    "df['generation_data_source'].value_counts()"
   ]
  },
  {
   "cell_type": "code",
   "execution_count": null,
   "id": "191acfbf",
   "metadata": {},
   "outputs": [],
   "source": [
    "df['year_of_capacity_data'].value_counts()"
   ]
  },
  {
   "cell_type": "code",
   "execution_count": null,
   "id": "6f9963ca",
   "metadata": {},
   "outputs": [],
   "source": [
    "df['generation_gwh_2019'].value_counts()"
   ]
  },
  {
   "cell_type": "code",
   "execution_count": null,
   "id": "70d13f49",
   "metadata": {},
   "outputs": [],
   "source": [
    "df['generation_data_source'].value_counts()"
   ]
  },
  {
   "cell_type": "code",
   "execution_count": null,
   "id": "d233f634",
   "metadata": {},
   "outputs": [],
   "source": [
    "df['country'].value_counts()"
   ]
  },
  {
   "cell_type": "code",
   "execution_count": null,
   "id": "14d2ad71",
   "metadata": {},
   "outputs": [],
   "source": [
    "df['gppd_idnr'].value_counts()"
   ]
  },
  {
   "cell_type": "code",
   "execution_count": null,
   "id": "27b1a548",
   "metadata": {},
   "outputs": [],
   "source": [
    "df['name'].value_counts()"
   ]
  },
  {
   "cell_type": "code",
   "execution_count": null,
   "id": "cec7edd8",
   "metadata": {},
   "outputs": [],
   "source": [
    "df['country_long'].value_counts()"
   ]
  },
  {
   "cell_type": "code",
   "execution_count": null,
   "id": "877fff9e",
   "metadata": {},
   "outputs": [],
   "source": [
    "df['generation_gwh_2014'].value_counts()"
   ]
  },
  {
   "cell_type": "code",
   "execution_count": null,
   "id": "c9b2689a",
   "metadata": {},
   "outputs": [],
   "source": [
    "df['geolocation_source'].value_counts()"
   ]
  },
  {
   "cell_type": "code",
   "execution_count": null,
   "id": "ced5c4d8",
   "metadata": {},
   "outputs": [],
   "source": [
    "df.sample()"
   ]
  },
  {
   "cell_type": "markdown",
   "id": "3d68af4d",
   "metadata": {},
   "source": [
    "### DROPPING OF COLUMNS WITH NAN DATA AND LESS THAN 50% DATA OR CONTAINING ONLY 1 DATA"
   ]
  },
  {
   "cell_type": "code",
   "execution_count": null,
   "id": "b30b0ea9",
   "metadata": {},
   "outputs": [],
   "source": [
    "drop=['name','gppd_idnr','country','country_long','other_fuel1','other_fuel2','other_fuel3','year_of_capacity_data'\n",
    "      ,'generation_gwh_2019','generation_data_source','generation_gwh_2013','estimated_generation_gwh'\n",
    "      ,'wepp_id','owner','generation_gwh_2014','url']\n",
    "\n",
    "for i in drop:\n",
    "    df.drop([i],axis=1,inplace=True)\n",
    "    "
   ]
  },
  {
   "cell_type": "code",
   "execution_count": null,
   "id": "0c804f71",
   "metadata": {},
   "outputs": [],
   "source": [
    "df.head()"
   ]
  },
  {
   "cell_type": "code",
   "execution_count": null,
   "id": "987ae690",
   "metadata": {},
   "outputs": [],
   "source": [
    "df.shape"
   ]
  },
  {
   "cell_type": "code",
   "execution_count": null,
   "id": "97f401bb",
   "metadata": {},
   "outputs": [],
   "source": [
    "df.isnull().sum()"
   ]
  },
  {
   "cell_type": "code",
   "execution_count": null,
   "id": "1a0addd8",
   "metadata": {},
   "outputs": [],
   "source": [
    "df.sample()"
   ]
  },
  {
   "cell_type": "code",
   "execution_count": null,
   "id": "1e5cec8e",
   "metadata": {},
   "outputs": [],
   "source": [
    "df[df['geolocation_source'].isnull()] # fill nan by mode"
   ]
  },
  {
   "cell_type": "code",
   "execution_count": null,
   "id": "fa284cab",
   "metadata": {},
   "outputs": [],
   "source": [
    "df[df['latitude'].isnull()]"
   ]
  },
  {
   "cell_type": "code",
   "execution_count": null,
   "id": "e5d6ab7e",
   "metadata": {},
   "outputs": [],
   "source": [
    "df['latitude'].value_counts()"
   ]
  },
  {
   "cell_type": "code",
   "execution_count": null,
   "id": "40dfb362",
   "metadata": {},
   "outputs": [],
   "source": [
    "sns.distplot(df['latitude']) #fill nan with mean latitude and logitude"
   ]
  },
  {
   "cell_type": "code",
   "execution_count": null,
   "id": "d352d634",
   "metadata": {},
   "outputs": [],
   "source": [
    "df['commissioning_year'].unique()"
   ]
  },
  {
   "cell_type": "code",
   "execution_count": null,
   "id": "851285dc",
   "metadata": {},
   "outputs": [],
   "source": [
    "df['commissioning_year'].mean()"
   ]
  },
  {
   "cell_type": "code",
   "execution_count": null,
   "id": "1cd25f6b",
   "metadata": {},
   "outputs": [],
   "source": [
    "sns.distplot(df['commissioning_year']) #fill nan with mean"
   ]
  },
  {
   "cell_type": "code",
   "execution_count": null,
   "id": "dd2155e6",
   "metadata": {},
   "outputs": [],
   "source": [
    "\n",
    "df['latitude']=df['latitude'].fillna(np.mean(df['latitude']))\n",
    "df['longitude']=df['longitude'].fillna(np.mean(df['longitude']))\n",
    "df['generation_gwh_2015']=df['generation_gwh_2015'].fillna(np.mean(df['generation_gwh_2015']))\n",
    "df['generation_gwh_2016']=df['generation_gwh_2016'].fillna(np.mean(df['generation_gwh_2016']))\n",
    "df['generation_gwh_2017']=df['generation_gwh_2017'].fillna(np.mean(df['generation_gwh_2017']))\n",
    "df['generation_gwh_2018']=df['generation_gwh_2018'].fillna(np.mean(df['generation_gwh_2018']))\n",
    "\n",
    "df['geolocation_source'].fillna(df['geolocation_source'].mode()[0],inplace=True)\n",
    "df['commissioning_year'].fillna(df['commissioning_year'].mode()[0],inplace=True)\n",
    "\n",
    "\n",
    "\n",
    "df.head()"
   ]
  },
  {
   "cell_type": "code",
   "execution_count": null,
   "id": "01126163",
   "metadata": {},
   "outputs": [],
   "source": [
    "plt.figure(figsize=(20,10))\n",
    "sns.heatmap(df.isnull())"
   ]
  },
  {
   "cell_type": "markdown",
   "id": "43c6dbb8",
   "metadata": {},
   "source": [
    "SOLVED NULL VALUES"
   ]
  },
  {
   "cell_type": "code",
   "execution_count": null,
   "id": "b186ade1",
   "metadata": {},
   "outputs": [],
   "source": [
    "df.describe()"
   ]
  },
  {
   "cell_type": "markdown",
   "id": "843b7cf3",
   "metadata": {},
   "source": [
    "SKEWNESS PRESENT MEAN IS NOT EQUAL TO  MEDIAN AND MODE\n",
    "\n",
    "STD BEEN SEEN IN SOME COLUMN"
   ]
  },
  {
   "cell_type": "markdown",
   "id": "8c734d77",
   "metadata": {},
   "source": [
    "# DATA VISUALIZATION"
   ]
  },
  {
   "cell_type": "code",
   "execution_count": null,
   "id": "8ef10684",
   "metadata": {},
   "outputs": [],
   "source": [
    "plt.figure(figsize=(10,8))\n",
    "\n",
    "plt.title(\"primary_fuel vs capacity_mw\",fontsize= 25,\n",
    "        fontweight =200,\n",
    "        color = 'blue',)\n",
    "\n",
    "sns.barplot(data=df,y='capacity_mw',x='primary_fuel',palette='gist_rainbow')\n"
   ]
  },
  {
   "cell_type": "markdown",
   "id": "5c5cc205",
   "metadata": {},
   "source": [
    "###### COAL AND NUCLEAR AS A FUEL MOSTLY GENERATE HIGHER CAPACITY POWER ABOVE 800MW.\n",
    "\n",
    "**WHEREAS SOLAR AND BOIMASS ARE LESS USED OR GENERATING POWER**"
   ]
  },
  {
   "cell_type": "code",
   "execution_count": null,
   "id": "a851b5f0",
   "metadata": {},
   "outputs": [],
   "source": [
    "plt.figure(figsize=(10,8))\n",
    "\n",
    "plt.title(\"primary_fuel vs geolocation_source\",fontsize= 25,\n",
    "        fontweight =200,\n",
    "        color = 'blue',)\n",
    "\n",
    "sns.histplot(data=df,y='primary_fuel',x='geolocation_source',color='pink')"
   ]
  },
  {
   "cell_type": "markdown",
   "id": "7549f122",
   "metadata": {},
   "source": [
    "#### National Renewable Energy Laboratory and INDUSTRY ABOUT record solar as fuel.\n",
    "\n",
    "#### rest all fuel consumption record are ffrom WRI."
   ]
  },
  {
   "cell_type": "code",
   "execution_count": null,
   "id": "a3458d9f",
   "metadata": {},
   "outputs": [],
   "source": [
    "sns.set(style=\"darkgrid\")\n",
    "fig, axs = plt.subplots(3, 2, figsize=(18, 14))\n",
    "\n",
    "sns.histplot(data=df, y=\"source\", kde=True, ax=axs[0, 0], color='green')\n",
    "sns.histplot(data=df, x=\"commissioning_year\", kde=True, ax=axs[0, 1], color='skyblue')\n",
    "sns.histplot(data=df, x=\"generation_gwh_2015\", kde=True, ax=axs[1, 0], color='orange')\n",
    "sns.histplot(data=df, x=\"generation_gwh_2015\", kde=True, ax=axs[1, 1], color='red')\n",
    "sns.histplot(data=df, x=\"generation_gwh_2015\", kde=True, ax=axs[2, 0], color='black');\n",
    "sns.histplot(data=df, x=\"generation_gwh_2015\", kde=True, ax=axs[2, 1], color='yellow');"
   ]
  },
  {
   "cell_type": "markdown",
   "id": "ed1288cf",
   "metadata": {},
   "source": [
    "# Handling Categorical Data\n",
    "\n",
    "One can find many ways to handle categorical data. Some of them categorical data are,\n",
    "\n",
    "Nominal data --> data are not in any order --> OneHotEncoder is used in this case\n",
    "\n",
    "Ordinal data --> data are in order --> LabelEncoder is used in this case"
   ]
  },
  {
   "cell_type": "code",
   "execution_count": null,
   "id": "1e0f77d3",
   "metadata": {},
   "outputs": [],
   "source": [
    "df.dtypes"
   ]
  },
  {
   "cell_type": "code",
   "execution_count": null,
   "id": "8eb48f7c",
   "metadata": {},
   "outputs": [],
   "source": [
    "# APLLYING LABEL ENCODER TO REST AS THEY ARE ORDINAL DATA\n",
    "\n",
    "from sklearn.preprocessing import LabelEncoder\n",
    "LE = LabelEncoder()"
   ]
  },
  {
   "cell_type": "code",
   "execution_count": null,
   "id": "378cf80a",
   "metadata": {},
   "outputs": [],
   "source": [
    "df['primary_fuel'] = LE.fit_transform(df['primary_fuel'])\n",
    "df['source'] = LE.fit_transform(df['source'])\n",
    "df['geolocation_source'] = LE.fit_transform(df['geolocation_source'])\n",
    "df.head()"
   ]
  },
  {
   "cell_type": "markdown",
   "id": "6f072ad6",
   "metadata": {},
   "source": [
    "# CORRELAION"
   ]
  },
  {
   "cell_type": "code",
   "execution_count": null,
   "id": "cc01d03d",
   "metadata": {},
   "outputs": [],
   "source": [
    "df.corr()"
   ]
  },
  {
   "cell_type": "code",
   "execution_count": null,
   "id": "7c0cd08c",
   "metadata": {},
   "outputs": [],
   "source": [
    "plt.figure(figsize=(22,7))\n",
    "df.corr()['primary_fuel'].sort_values(ascending=False).plot(kind='bar',color='c')\n",
    "plt.xlabel('feature',fontsize=14)\n",
    "plt.ylabel('column with target names',fontsize=14)\n",
    "plt.title('correlation',fontsize=18)\n",
    "plt.show()"
   ]
  },
  {
   "cell_type": "markdown",
   "id": "5d459edb",
   "metadata": {},
   "source": [
    "negative correlation is seen\n",
    "\n"
   ]
  },
  {
   "cell_type": "code",
   "execution_count": null,
   "id": "dd2c603f",
   "metadata": {},
   "outputs": [],
   "source": [
    "plt.figure(figsize=(18,12))\n",
    "sns.heatmap(df.corr(),cmap='Spectral',annot=True,linecolor='Black',linewidths=.2)"
   ]
  },
  {
   "cell_type": "markdown",
   "id": "44357535",
   "metadata": {},
   "source": [
    "geolocation_source is negatively correlated to primary_fuel.\n",
    "\n",
    "capacity_mw is also negatively correlated primary_fuel."
   ]
  },
  {
   "cell_type": "markdown",
   "id": "3b08e97c",
   "metadata": {},
   "source": [
    "# CHECKING OUTLIERS"
   ]
  },
  {
   "cell_type": "code",
   "execution_count": null,
   "id": "82933fb8",
   "metadata": {},
   "outputs": [],
   "source": [
    "df.plot(kind='box',subplots=True,layout=(4,4),figsize=(10,15))\n",
    "plt.show()"
   ]
  },
  {
   "cell_type": "markdown",
   "id": "bac16cc9",
   "metadata": {},
   "source": [
    "OUTLIERS ARE PRESENT \n",
    "\n",
    "# REMOVING OUTLIERS BY Z SCORE"
   ]
  },
  {
   "cell_type": "code",
   "execution_count": null,
   "id": "a87c02e7",
   "metadata": {},
   "outputs": [],
   "source": [
    "from scipy.stats import zscore\n",
    "\n",
    "z=np.abs(zscore(df))\n",
    "z\n"
   ]
  },
  {
   "cell_type": "code",
   "execution_count": null,
   "id": "e6831144",
   "metadata": {},
   "outputs": [],
   "source": [
    "threshold=3\n",
    "print(np.where(z>3))"
   ]
  },
  {
   "cell_type": "code",
   "execution_count": null,
   "id": "3d3e502a",
   "metadata": {},
   "outputs": [],
   "source": [
    "df1=df[(z<3).all(axis=1)]\n",
    "df1"
   ]
  },
  {
   "cell_type": "markdown",
   "id": "a4aaa0b8",
   "metadata": {},
   "source": [
    "# Percentage loss"
   ]
  },
  {
   "cell_type": "code",
   "execution_count": null,
   "id": "6f86c03a",
   "metadata": {},
   "outputs": [],
   "source": [
    "loss_percent=(907-837)/837*100\n",
    "print(loss_percent,'%')"
   ]
  },
  {
   "cell_type": "markdown",
   "id": "e621f982",
   "metadata": {},
   "source": [
    "# Separating Dataset TO PREDICT \n",
    "\n",
    "#### 1)PRIMARY FUEL"
   ]
  },
  {
   "cell_type": "code",
   "execution_count": null,
   "id": "6ca6e1f4",
   "metadata": {},
   "outputs": [],
   "source": [
    "#independent column\n",
    "x=df1.drop(['primary_fuel'],axis=1)\n",
    "#target\n",
    "y=df1['primary_fuel']"
   ]
  },
  {
   "cell_type": "code",
   "execution_count": null,
   "id": "029bbe08",
   "metadata": {},
   "outputs": [],
   "source": [
    "x.shape"
   ]
  },
  {
   "cell_type": "code",
   "execution_count": null,
   "id": "8ffb5fbc",
   "metadata": {},
   "outputs": [],
   "source": [
    "y.shape"
   ]
  },
  {
   "cell_type": "markdown",
   "id": "7b1a9364",
   "metadata": {},
   "source": [
    "# Skewness check"
   ]
  },
  {
   "cell_type": "code",
   "execution_count": null,
   "id": "b2b4a1bf",
   "metadata": {},
   "outputs": [],
   "source": [
    "df1.skew()"
   ]
  },
  {
   "cell_type": "code",
   "execution_count": null,
   "id": "b56ee802",
   "metadata": {},
   "outputs": [],
   "source": [
    "plt.figure(figsize=(20,25),facecolor='white')\n",
    "plotnumber=1\n",
    "for column in df.columns:\n",
    "    if plotnumber<=7:\n",
    "        ax=plt.subplot(3,3,plotnumber)\n",
    "        sns.distplot(df1[column])\n",
    "        plt.xlabel(column,fontsize=20)\n",
    "    plotnumber+=1\n",
    "plt.show()"
   ]
  },
  {
   "cell_type": "markdown",
   "id": "c692a857",
   "metadata": {},
   "source": [
    "CAPACITY,SOURCE,YEAR COLUMNS ARE HAVING SKEWNESS"
   ]
  },
  {
   "cell_type": "code",
   "execution_count": null,
   "id": "97aa6df9",
   "metadata": {},
   "outputs": [],
   "source": [
    "\n",
    "from sklearn.preprocessing import power_transform\n",
    "df1['capacity_mw']=power_transform(x,method='yeo-johnson')\n",
    "df1['source']=power_transform(x,method='yeo-johnson')\n",
    "df1['geolocation_source']=power_transform(x,method='yeo-johnson')\n",
    "\n",
    "df1"
   ]
  },
  {
   "cell_type": "markdown",
   "id": "68a3e305",
   "metadata": {},
   "source": [
    "# Scaling"
   ]
  },
  {
   "cell_type": "code",
   "execution_count": null,
   "id": "1440d418",
   "metadata": {},
   "outputs": [],
   "source": [
    "from sklearn.preprocessing import StandardScaler\n",
    "sc=StandardScaler()\n",
    "x=sc.fit_transform(x)\n",
    "x"
   ]
  },
  {
   "cell_type": "markdown",
   "id": "c1f390d5",
   "metadata": {},
   "source": [
    "# Splitting the DataFrame and Model selection"
   ]
  },
  {
   "cell_type": "code",
   "execution_count": null,
   "id": "b0553523",
   "metadata": {},
   "outputs": [],
   "source": [
    "from sklearn.model_selection import train_test_split\n",
    "x_train,x_test,y_train,y_test=train_test_split(x,y,test_size=0.22,random_state=11)"
   ]
  },
  {
   "cell_type": "markdown",
   "id": "ca976236",
   "metadata": {},
   "source": [
    "# 1)LOGISTIC REGRESSION"
   ]
  },
  {
   "cell_type": "code",
   "execution_count": null,
   "id": "5505845c",
   "metadata": {},
   "outputs": [],
   "source": [
    "from sklearn.linear_model import LogisticRegression\n",
    "from sklearn.metrics import accuracy_score\n",
    "from sklearn.metrics import classification_report,confusion_matrix\n",
    "\n",
    "lo=LogisticRegression()\n",
    "lo.fit(x_train,y_train)\n",
    "lo.score(x_train,y_train)\n",
    "predlo=lo.predict(x_test)\n",
    "\n",
    "\n",
    "print('Accuracy Score is''\\n',accuracy_score(y_test,predlo))\n",
    "print('Confusion Matrix''\\n',confusion_matrix(y_test,predlo))\n",
    "print(classification_report(y_test,predlo))"
   ]
  },
  {
   "cell_type": "markdown",
   "id": "e9dd6620",
   "metadata": {},
   "source": [
    "### CROSS VALIDATION"
   ]
  },
  {
   "cell_type": "code",
   "execution_count": null,
   "id": "e2bdc1c8",
   "metadata": {},
   "outputs": [],
   "source": [
    "test_accuracy= accuracy_score(y_test,predlo)\n",
    "\n",
    "from sklearn.model_selection import cross_val_score\n",
    "for i in range(2,10):\n",
    "    cv_score=cross_val_score(lo,x,y,cv=i,n_jobs=2)\n",
    "    cv_mean=cv_score.mean()\n",
    "    print(f\"At cross fold {i} the Cross Val score is {cv_mean*100} and Accuracy score is {test_accuracy*100}\")"
   ]
  },
  {
   "cell_type": "markdown",
   "id": "1e0b1379",
   "metadata": {},
   "source": [
    "Logistic Regression IS HAVING GOOD RESULTS\n",
    "\n",
    "WE WILL FIRST CHECK OTHER MODEL RESULTS AND THEN CONCLUDE\n",
    "\n",
    "# 2) DecisionTreeClassifier"
   ]
  },
  {
   "cell_type": "code",
   "execution_count": null,
   "id": "e53ad863",
   "metadata": {},
   "outputs": [],
   "source": [
    "\n",
    "from sklearn.tree import DecisionTreeClassifier\n",
    "\n",
    "dt=DecisionTreeClassifier()\n",
    "dt.fit(x_train,y_train)\n",
    "pred_dt=dt.predict(x_test)\n",
    "print('Accuracy score''\\n',accuracy_score(y_test,pred_dt))\n",
    "print('Confusion Matrix''\\n',confusion_matrix(y_test,pred_dt))\n",
    "print('Classification Report''\\n',classification_report(y_test,pred_dt))"
   ]
  },
  {
   "cell_type": "markdown",
   "id": "db742298",
   "metadata": {},
   "source": [
    "### CROSS VALIDATION"
   ]
  },
  {
   "cell_type": "code",
   "execution_count": null,
   "id": "b8364634",
   "metadata": {},
   "outputs": [],
   "source": [
    "test_accuracy= accuracy_score(y_test,pred_dt)\n",
    "\n",
    "from sklearn.model_selection import cross_val_score\n",
    "for i in range(2,10):\n",
    "    cv_score=cross_val_score(dt,x,y,cv=i)\n",
    "    cv_mean=cv_score.mean()\n",
    "    print(f\"At cross fold {i} the Cross Val score is {cv_mean*100} and Accuracy score is {test_accuracy*100}\")"
   ]
  },
  {
   "cell_type": "markdown",
   "id": "594f1e32",
   "metadata": {},
   "source": [
    "DecisionTreeClassifier IS HAVING GOOD RESULTS\n",
    "\n",
    "WE WILL FIRST CHECK OTHER MODEL RESULTS AND THEN CONCLUDE\n",
    "\n",
    "# 3) RandomForestClassifier"
   ]
  },
  {
   "cell_type": "code",
   "execution_count": null,
   "id": "86d6e784",
   "metadata": {},
   "outputs": [],
   "source": [
    "from sklearn.ensemble import RandomForestClassifier\n",
    "\n",
    "rfc=RandomForestClassifier()\n",
    "rfc.fit(x_train,y_train)\n",
    "pred_rfc=rfc.predict(x_test)\n",
    "print('Accuracy score''\\n',accuracy_score(y_test,pred_rfc))\n",
    "print('Confusion Matrix''\\n',confusion_matrix(y_test,pred_rfc))\n",
    "print('Classification Report''\\n',classification_report(y_test,pred_rfc))"
   ]
  },
  {
   "cell_type": "markdown",
   "id": "f3e55219",
   "metadata": {},
   "source": [
    "### CROSS VALIDATION"
   ]
  },
  {
   "cell_type": "code",
   "execution_count": null,
   "id": "6f7f60d9",
   "metadata": {},
   "outputs": [],
   "source": [
    "test_accuracy= accuracy_score(y_test,pred_rfc)\n",
    "\n",
    "from sklearn.model_selection import cross_val_score\n",
    "for i in range(2,10):\n",
    "    cv_score=cross_val_score(rfc,x,y,cv=i,n_jobs=2)\n",
    "    cv_mean=cv_score.mean()\n",
    "    print(f\"At cross fold {i} the Cross Val score is {cv_mean*100} and Accuracy score is {test_accuracy*100}\")"
   ]
  },
  {
   "cell_type": "markdown",
   "id": "56ad75d7",
   "metadata": {},
   "source": [
    "RandomForestClassifier IS HAVING GOOD RESULTS\n",
    "\n",
    "WE WILL FIRST CHECK OTHER MODEL RESULTS AND THEN CONCLUDE\n",
    "\n",
    "# 4) SUPPORT VECTOR CLASSIFIER"
   ]
  },
  {
   "cell_type": "code",
   "execution_count": null,
   "id": "b70248e0",
   "metadata": {},
   "outputs": [],
   "source": [
    "from sklearn.svm import SVC\n",
    "\n",
    "svc=SVC()\n",
    "svc.fit(x_train,y_train)\n",
    "pred_svc=svc.predict(x_test)\n",
    "print('Accuracy score''\\n',accuracy_score(y_test,pred_svc))\n",
    "print('Confusion Matrix''\\n',confusion_matrix(y_test,pred_svc))\n",
    "print('Classification Report''\\n',classification_report(y_test,pred_svc))"
   ]
  },
  {
   "cell_type": "markdown",
   "id": "a4bf63bc",
   "metadata": {},
   "source": [
    "### CROSS VALIDATION"
   ]
  },
  {
   "cell_type": "code",
   "execution_count": null,
   "id": "58d7b93d",
   "metadata": {},
   "outputs": [],
   "source": [
    "test_accuracy= accuracy_score(y_test,pred_svc)\n",
    "\n",
    "from sklearn.model_selection import cross_val_score\n",
    "for i in range(2,10):\n",
    "    cv_score=cross_val_score(svc,x,y,cv=i)\n",
    "    cv_mean=cv_score.mean()\n",
    "    print(f\"At cross fold {i} the Cross Val score is {cv_mean*100} and Accuracy score is {test_accuracy*100}\")"
   ]
  },
  {
   "cell_type": "markdown",
   "id": "7ca93119",
   "metadata": {},
   "source": [
    "\n",
    "SUPPORT VECTOR CLASSIFIER IS HAVING GOOD RESULTS\n",
    "\n",
    "WE WILL FIRST CHECK OTHER MODEL RESULTS AND THEN CONCLUDE\n",
    "\n",
    "# 5) GradientBoostingClassifier"
   ]
  },
  {
   "cell_type": "code",
   "execution_count": null,
   "id": "badb1517",
   "metadata": {},
   "outputs": [],
   "source": [
    "\n",
    "# Gradient Boosting Classifier\n",
    "from sklearn.ensemble import GradientBoostingClassifier\n",
    "\n",
    "gbk = GradientBoostingClassifier()\n",
    "gbk.fit(x_train, y_train)\n",
    "pred_gbk = gbk.predict(x_test)\n",
    "print('Accuracy score''\\n',accuracy_score(pred_gbk,y_test))\n",
    "print('Confusion Matrix''\\n',confusion_matrix(y_test,pred_gbk))\n",
    "print('Classification Report''\\n',classification_report(y_test,pred_gbk))\n",
    "\n",
    "\n"
   ]
  },
  {
   "cell_type": "markdown",
   "id": "3604a4d7",
   "metadata": {},
   "source": [
    "### CROSS VALIDATION"
   ]
  },
  {
   "cell_type": "code",
   "execution_count": null,
   "id": "42cd2e94",
   "metadata": {},
   "outputs": [],
   "source": [
    "test_accuracy= accuracy_score(y_test,pred_gbk)\n",
    "\n",
    "from sklearn.model_selection import cross_val_score\n",
    "for i in range(2,10):\n",
    "    cv_score=cross_val_score(gbk,x,y,cv=i)\n",
    "    cv_mean=cv_score.mean()\n",
    "    print(f\"At cross fold {i} the Cross Val score is {cv_mean*100} and Accuracy score is {test_accuracy*100}\")"
   ]
  },
  {
   "cell_type": "markdown",
   "id": "3df52e37",
   "metadata": {},
   "source": [
    "GradientBoostingClassifier IS HAVING GOOD RESULTS\n",
    "\n",
    "WE WILL FIRST CHECK OTHER MODEL RESULTS AND THEN CONCLUDE\n",
    "\n",
    "# 6) ExtraTreesClassifier"
   ]
  },
  {
   "cell_type": "code",
   "execution_count": null,
   "id": "d7fc8864",
   "metadata": {},
   "outputs": [],
   "source": [
    "from sklearn.ensemble import ExtraTreesClassifier\n",
    "\n",
    "ETC=ExtraTreesClassifier()\n",
    "ETC.fit(x_train,y_train)\n",
    "pred_ETC=ETC.predict(x_test)\n",
    "print('Accuracy score''\\n',accuracy_score(y_test,pred_ETC))\n",
    "print('Confusion Matrix''\\n',confusion_matrix(y_test,pred_ETC))\n",
    "print('Classification Report''\\n',classification_report(y_test,pred_ETC))\n",
    "\n",
    "\n"
   ]
  },
  {
   "cell_type": "markdown",
   "id": "9f8446e8",
   "metadata": {},
   "source": [
    "### CROSS VALIDATION"
   ]
  },
  {
   "cell_type": "code",
   "execution_count": null,
   "id": "cc1a4861",
   "metadata": {},
   "outputs": [],
   "source": [
    "test_accuracy= accuracy_score(y_test,pred_ETC)\n",
    "\n",
    "from sklearn.model_selection import cross_val_score\n",
    "for i in range(2,10):\n",
    "    cv_score=cross_val_score(ETC,x,y,cv=i)\n",
    "    cv_mean=cv_score.mean()\n",
    "    print(f\"At cross fold {i} the Cross Val score is {cv_mean*100} and Accuracy score is {test_accuracy*100}\")"
   ]
  },
  {
   "cell_type": "markdown",
   "id": "804c4fb2",
   "metadata": {},
   "source": [
    "ExtraTreesClassifier IS HAVING GOOD RESULTS\n",
    "\n",
    "WE WILL FIRST CHECK OTHER MODEL RESULTS AND THEN CONCLUDE\n",
    "\n",
    "# 7)KNeighborsClassifier"
   ]
  },
  {
   "cell_type": "code",
   "execution_count": null,
   "id": "87b6eaee",
   "metadata": {},
   "outputs": [],
   "source": [
    "from sklearn import neighbors\n",
    "from sklearn.neighbors import KNeighborsClassifier\n",
    "\n",
    "knc=KNeighborsClassifier()\n",
    "knc.fit(x_train,y_train)\n",
    "pred_knc=knc.predict(x_test)\n",
    "print('Accuracy score''\\n',accuracy_score(y_test,pred_knc))\n",
    "print('Confusion Matrix''\\n',confusion_matrix(y_test,pred_knc))\n",
    "print('Classification Report''\\n',classification_report(y_test,pred_knc))"
   ]
  },
  {
   "cell_type": "markdown",
   "id": "34a078f5",
   "metadata": {},
   "source": [
    "### CROSS VALIDATION"
   ]
  },
  {
   "cell_type": "code",
   "execution_count": null,
   "id": "ec322d96",
   "metadata": {},
   "outputs": [],
   "source": [
    "test_accuracy= accuracy_score(y_test,pred_knc)\n",
    "\n",
    "from sklearn.model_selection import cross_val_score\n",
    "for i in range(2,10):\n",
    "    cv_score=cross_val_score(knc,x,y,cv=i)\n",
    "    cv_mean=cv_score.mean()\n",
    "    print(f\"At cross fold {i} the Cross Val score is {cv_mean*100} and Accuracy score is {test_accuracy*100}\")"
   ]
  },
  {
   "cell_type": "markdown",
   "id": "bb8528f5",
   "metadata": {},
   "source": [
    "KNeighborsClassifier IS HAVING GOOD RESULTS\n",
    "\n",
    "\n",
    "**HENCE ALL MODELS ARE SHOWING VERY GOOD RESULTS RandomForestClassifier IS SHOWING HIGHEST ACCURACY SCORE and least difference betweem accuaracy score and cv score**\n",
    "\n",
    "\n",
    "PERFORMING RandomForestClassifier\n",
    "\n",
    "# Hyper parameter tuning"
   ]
  },
  {
   "cell_type": "code",
   "execution_count": null,
   "id": "90ef2091",
   "metadata": {},
   "outputs": [],
   "source": [
    "from sklearn.model_selection import GridSearchCV\n",
    "\n",
    "#creating the parameter list to pass in GrideSearchcv\n",
    "parameters={'max_features':['auto','sqrt','log2'],\n",
    "           'max_depth':[4,5,6,7,8,9,10],\n",
    "           'criterion':['gini','entropy']}\n",
    "\n",
    "gcv=GridSearchCV(RandomForestClassifier(),parameters,cv=5,scoring=\"accuracy\")\n",
    "gcv.fit(x_train,y_train)\n",
    "gcv.best_params_"
   ]
  },
  {
   "cell_type": "code",
   "execution_count": null,
   "id": "c7ceb52c",
   "metadata": {},
   "outputs": [],
   "source": [
    "gcv_pred=gcv.best_estimator_.predict(x_test)#predicting with best parameters\n",
    "accuracy_score(y_test,gcv_pred)#checking the final score\n",
    "\n",
    "print('Accuracy score''\\n',accuracy_score(y_test,gcv_pred))\n",
    "print('Confusion Matrix''\\n',confusion_matrix(y_test,gcv_pred))\n",
    "print('Classification Report''\\n',classification_report(y_test,gcv_pred))"
   ]
  },
  {
   "cell_type": "code",
   "execution_count": null,
   "id": "85ffc62d",
   "metadata": {},
   "outputs": [],
   "source": [
    "from sklearn.model_selection import GridSearchCV\n",
    "\n",
    "#creating the parameter list to pass in GrideSearchcv\n",
    "parameters1={'max_features':['auto','sqrt','log2'],\n",
    "           'max_depth':[4,5,6,7,8,9,10],\n",
    "           'criterion':['gini','entropy']}\n",
    "\n",
    "gcv1=GridSearchCV(ExtraTreesClassifier(),parameters1,cv=5,scoring=\"accuracy\")\n",
    "gcv1.fit(x_train,y_train)\n",
    "gcv1.best_params_"
   ]
  },
  {
   "cell_type": "code",
   "execution_count": null,
   "id": "90d9ce27",
   "metadata": {},
   "outputs": [],
   "source": [
    "gcv_pred1=gcv1.best_estimator_.predict(x_test)#predicting with best parameters\n",
    "accuracy_score(y_test,gcv_pred1)#checking the final score\n",
    "\n",
    "print('Accuracy score''\\n',accuracy_score(y_test,gcv_pred1))\n",
    "print('Confusion Matrix''\\n',confusion_matrix(y_test,gcv_pred1))\n",
    "print('Classification Report''\\n',classification_report(y_test,gcv_pred1))"
   ]
  },
  {
   "cell_type": "markdown",
   "id": "820c439b",
   "metadata": {},
   "source": [
    "**FINALLY WE SEE RandomForestClassifier IS DOING THE BEST JOB**\n"
   ]
  },
  {
   "cell_type": "markdown",
   "id": "3c93d07e",
   "metadata": {},
   "source": [
    "## Final Prediction Submission with best estimator"
   ]
  },
  {
   "cell_type": "code",
   "execution_count": null,
   "id": "6cc430d1",
   "metadata": {},
   "outputs": [],
   "source": [
    "import numpy as np\n",
    "a = np.array(y_test)\n",
    "predicted = np.array(gcv.best_estimator_.predict(x_test))\n",
    "df = pd.DataFrame(zip(a,predicted), columns = [\"Original\",\"Predicted\"])\n",
    "df"
   ]
  },
  {
   "cell_type": "markdown",
   "id": "34ed2809",
   "metadata": {},
   "source": [
    "# Saving the best model with randomforest classifier-best model"
   ]
  },
  {
   "cell_type": "code",
   "execution_count": null,
   "id": "8528f3fa",
   "metadata": {},
   "outputs": [],
   "source": [
    "# save the model to disk\n",
    "import pickle\n",
    "\n",
    "filename = 'POWER_PLANT_fuel.pkl'\n",
    "pickle.dump(gcv.best_estimator_, open(filename, 'wb'))\n"
   ]
  },
  {
   "cell_type": "code",
   "execution_count": null,
   "id": "2b8f384e",
   "metadata": {},
   "outputs": [],
   "source": [
    "# load the model from disk\n",
    "\n",
    "loaded_model = pickle.load(open(filename, 'rb'))\n",
    "result = loaded_model.score(x_test,y_test)\n",
    "print(result)"
   ]
  },
  {
   "cell_type": "markdown",
   "id": "b8904e49",
   "metadata": {},
   "source": [
    "# NOW PERFORMING THE SAME DATASET TO PREDICT \n",
    "\n",
    "## 2) Capacity_mw\n",
    "\n",
    "\n",
    "**AS ALL COLUMN DROPED ARE NOT USEFUL IN EITHER CASE SO DIRECTLY IMPORTING FINAL DATA**"
   ]
  },
  {
   "cell_type": "code",
   "execution_count": null,
   "id": "b2ef0f1e",
   "metadata": {},
   "outputs": [],
   "source": [
    "df_capacity=pd.read_csv(\"Global_Power_Plant.csv\")\n",
    "df_capacity"
   ]
  },
  {
   "cell_type": "markdown",
   "id": "0f4a50ee",
   "metadata": {},
   "source": [
    "#### DROPPING UNWANTED COLUMNS"
   ]
  },
  {
   "cell_type": "code",
   "execution_count": null,
   "id": "4f5271e2",
   "metadata": {},
   "outputs": [],
   "source": [
    "drop=['name','gppd_idnr','country','country_long','other_fuel1','other_fuel2','other_fuel3','year_of_capacity_data'\n",
    "      ,'generation_gwh_2019','generation_data_source','generation_gwh_2013','estimated_generation_gwh'\n",
    "      ,'wepp_id','owner','generation_gwh_2014','url']\n",
    "\n",
    "for i in drop:\n",
    "    df_capacity.drop([i],axis=1,inplace=True)\n",
    "    \n",
    "df_capacity.head()    "
   ]
  },
  {
   "cell_type": "code",
   "execution_count": null,
   "id": "fc9e5363",
   "metadata": {},
   "outputs": [],
   "source": [
    "#FILLING NAN VALUES\n",
    "df_capacity['latitude']=df_capacity['latitude'].fillna(np.mean(df_capacity['latitude']))\n",
    "df_capacity['longitude']=df_capacity['longitude'].fillna(np.mean(df_capacity['longitude']))\n",
    "df_capacity['generation_gwh_2015']=df_capacity['generation_gwh_2015'].fillna(np.mean(df_capacity['generation_gwh_2015']))\n",
    "df_capacity['generation_gwh_2016']=df_capacity['generation_gwh_2016'].fillna(np.mean(df_capacity['generation_gwh_2016']))\n",
    "df_capacity['generation_gwh_2017']=df_capacity['generation_gwh_2017'].fillna(np.mean(df_capacity['generation_gwh_2017']))\n",
    "df_capacity['generation_gwh_2018']=df_capacity['generation_gwh_2018'].fillna(np.mean(df_capacity['generation_gwh_2018']))\n",
    "\n",
    "df_capacity['geolocation_source'].fillna(df_capacity['geolocation_source'].mode()[0],inplace=True)\n",
    "df_capacity['commissioning_year'].fillna(df_capacity['commissioning_year'].mode()[0],inplace=True)\n",
    "\n",
    "\n",
    "\n",
    "df_capacity.head()"
   ]
  },
  {
   "cell_type": "markdown",
   "id": "e088ca97",
   "metadata": {},
   "source": [
    "# Handling Categorical Data\n",
    "\n",
    "One can find many ways to handle categorical data. Some of them categorical data are,\n",
    "\n",
    "Nominal data --> data are not in any order --> OneHotEncoder is used in this case\n",
    "\n",
    "Ordinal data --> data are in order --> LabelEncoder is used in this case"
   ]
  },
  {
   "cell_type": "code",
   "execution_count": null,
   "id": "b59a79b6",
   "metadata": {},
   "outputs": [],
   "source": [
    "df_capacity.dtypes"
   ]
  },
  {
   "cell_type": "code",
   "execution_count": null,
   "id": "cfb35444",
   "metadata": {},
   "outputs": [],
   "source": [
    "# APLLYING LABEL ENCODER TO REST AS THEY ARE ORDINAL DATA\n",
    "\n",
    "from sklearn.preprocessing import LabelEncoder\n",
    "LE = LabelEncoder()\n",
    "\n",
    "df_capacity['primary_fuel'] = LE.fit_transform(df_capacity['primary_fuel'])\n",
    "df_capacity['source'] = LE.fit_transform(df_capacity['source'])\n",
    "df_capacity['geolocation_source'] = LE.fit_transform(df_capacity['geolocation_source'])\n",
    "df_capacity.head()"
   ]
  },
  {
   "cell_type": "markdown",
   "id": "fa433566",
   "metadata": {},
   "source": [
    "### CORRELATION"
   ]
  },
  {
   "cell_type": "code",
   "execution_count": null,
   "id": "e99e1e55",
   "metadata": {},
   "outputs": [],
   "source": [
    "plt.figure(figsize=(22,7))\n",
    "df_capacity.corr()['capacity_mw'].sort_values(ascending=False).plot(kind='bar',color='m')\n",
    "plt.xlabel('feature',fontsize=14)\n",
    "plt.ylabel('column with target names',fontsize=14)\n",
    "plt.title('correlation',fontsize=18)\n",
    "plt.show()"
   ]
  },
  {
   "cell_type": "markdown",
   "id": "ba0b6935",
   "metadata": {},
   "source": [
    "SOURCE AND PRIMARY FUEL ARE NEGATIVELY CORRELATED\n",
    "\n",
    "\n",
    "# OUTLIERS CHECK"
   ]
  },
  {
   "cell_type": "code",
   "execution_count": null,
   "id": "361d4dc8",
   "metadata": {},
   "outputs": [],
   "source": [
    "df_capacity.plot(kind='box',subplots=True,layout=(4,4),figsize=(10,15))\n",
    "plt.show()"
   ]
  },
  {
   "cell_type": "markdown",
   "id": "108c1450",
   "metadata": {},
   "source": [
    "## REMOVING OUTLIERS BY ZSCORE"
   ]
  },
  {
   "cell_type": "code",
   "execution_count": null,
   "id": "14fa2c87",
   "metadata": {},
   "outputs": [],
   "source": [
    "from scipy.stats import zscore\n",
    "\n",
    "z=np.abs(zscore(df_capacity))\n",
    "z"
   ]
  },
  {
   "cell_type": "code",
   "execution_count": null,
   "id": "aeb37466",
   "metadata": {},
   "outputs": [],
   "source": [
    "threshold=3\n",
    "print(np.where(z>3))"
   ]
  },
  {
   "cell_type": "code",
   "execution_count": null,
   "id": "0d69d16d",
   "metadata": {},
   "outputs": [],
   "source": [
    "df1_capacity=df_capacity[(z<3).all(axis=1)]\n",
    "df1_capacity"
   ]
  },
  {
   "cell_type": "code",
   "execution_count": null,
   "id": "69b76eb6",
   "metadata": {},
   "outputs": [],
   "source": [
    "df1_capacity.head()"
   ]
  },
  {
   "cell_type": "markdown",
   "id": "e873c2dd",
   "metadata": {},
   "source": [
    "## SPLITTING THE DATASET"
   ]
  },
  {
   "cell_type": "code",
   "execution_count": null,
   "id": "1b709a91",
   "metadata": {},
   "outputs": [],
   "source": [
    "#independent column\n",
    "a=df1_capacity.drop(['capacity_mw'],axis=1)\n",
    "#target\n",
    "b=df1_capacity['capacity_mw']"
   ]
  },
  {
   "cell_type": "code",
   "execution_count": null,
   "id": "daf880d8",
   "metadata": {},
   "outputs": [],
   "source": [
    "a.shape"
   ]
  },
  {
   "cell_type": "code",
   "execution_count": null,
   "id": "c7e08feb",
   "metadata": {},
   "outputs": [],
   "source": [
    "b.shape"
   ]
  },
  {
   "cell_type": "markdown",
   "id": "4e0c62d2",
   "metadata": {},
   "source": [
    "## SKEWNESS CHECK"
   ]
  },
  {
   "cell_type": "code",
   "execution_count": null,
   "id": "6b1a3b48",
   "metadata": {},
   "outputs": [],
   "source": [
    "df1_capacity.skew()"
   ]
  },
  {
   "cell_type": "code",
   "execution_count": null,
   "id": "ba1b873d",
   "metadata": {},
   "outputs": [],
   "source": [
    "# REMOVING SKEWNESS\n",
    "from sklearn.preprocessing import power_transform\n",
    "df1_capacity=power_transform(a,method='yeo-johnson')\n",
    "\n",
    "\n",
    "df1_capacity"
   ]
  },
  {
   "cell_type": "markdown",
   "id": "7875ae44",
   "metadata": {},
   "source": [
    "# Scalling"
   ]
  },
  {
   "cell_type": "code",
   "execution_count": null,
   "id": "df72d2d9",
   "metadata": {},
   "outputs": [],
   "source": [
    "from sklearn.preprocessing import StandardScaler\n",
    "sc=StandardScaler()\n",
    "a=sc.fit_transform(a)\n",
    "a"
   ]
  },
  {
   "cell_type": "markdown",
   "id": "b1e0287a",
   "metadata": {},
   "source": [
    "# Splitting the DataFrame and Model selection"
   ]
  },
  {
   "cell_type": "code",
   "execution_count": null,
   "id": "f1efd904",
   "metadata": {},
   "outputs": [],
   "source": [
    "from sklearn.model_selection import train_test_split\n",
    "a_train,a_test,b_train,b_test=train_test_split(a,b,test_size=0.22,random_state=123)"
   ]
  },
  {
   "cell_type": "markdown",
   "id": "fcd25e6f",
   "metadata": {},
   "source": [
    "# 1) LinearRegression"
   ]
  },
  {
   "cell_type": "code",
   "execution_count": null,
   "id": "dc9b0b36",
   "metadata": {},
   "outputs": [],
   "source": [
    "from sklearn.linear_model import LinearRegression\n",
    "from sklearn.metrics import r2_score,mean_absolute_error,mean_squared_error\n",
    "\n",
    "\n",
    "\n",
    "lr=LinearRegression()\n",
    "lr.fit(a_train,b_train)\n",
    "lr.score(a_train,b_train)\n",
    "predlr=lr.predict(a_test)\n",
    "\n",
    "\n",
    "print('Score: ',lr.score(a_train,b_train))\n",
    "print('r2 score: ', r2_score(b_test,predlr))\n",
    "\n",
    "\n",
    "# printing errors\n",
    "\n",
    "print('Mean absolute error:', mean_absolute_error(b_test,predlr))\n",
    "print('Mean squared error:', mean_squared_error(b_test,predlr))\n",
    "print('Root mean squared error:', np.sqrt(mean_squared_error(b_test,predlr)))"
   ]
  },
  {
   "cell_type": "markdown",
   "id": "62a89293",
   "metadata": {},
   "source": [
    "### Cross Validation"
   ]
  },
  {
   "cell_type": "code",
   "execution_count": null,
   "id": "b59495fe",
   "metadata": {},
   "outputs": [],
   "source": [
    "\n",
    "test_accuracy= r2_score(b_test,predlr)\n",
    "\n",
    "from sklearn.model_selection import cross_val_score\n",
    "for i in range(2,10):\n",
    "    cv_score=cross_val_score(lr,a,b,cv=i)\n",
    "    cv_mean=cv_score.mean()\n",
    "    print(f\"At cross fold {i} the Cross Val score is {cv_mean*100} and Accuracy score is {test_accuracy*100}\")"
   ]
  },
  {
   "cell_type": "markdown",
   "id": "b55bda09",
   "metadata": {},
   "source": [
    "# 2) DecisionTreeRegressor"
   ]
  },
  {
   "cell_type": "code",
   "execution_count": null,
   "id": "5658ba6a",
   "metadata": {},
   "outputs": [],
   "source": [
    "\n",
    "from sklearn.tree import DecisionTreeRegressor\n",
    "\n",
    "dtc=DecisionTreeRegressor()\n",
    "dtc.fit(a_train,b_train)\n",
    "dtc.score(a_train,b_train)\n",
    "dtc_pred=dtc.predict(a_test)\n",
    "\n",
    "\n",
    "print('score : ',dtc.score(a_train,b_train))\n",
    "print('r2 score : ',r2_score(b_test,dtc_pred))\n",
    "\n",
    "# printing errors\n",
    "\n",
    "print('Mean absolute error:', mean_absolute_error(b_test,dtc_pred))\n",
    "print('Mean squared error:', mean_squared_error(b_test,dtc_pred))\n",
    "print('Root mean squared error:', np.sqrt(mean_squared_error(b_test,dtc_pred)))"
   ]
  },
  {
   "cell_type": "markdown",
   "id": "7e7e38c2",
   "metadata": {},
   "source": [
    "### Cross Validation"
   ]
  },
  {
   "cell_type": "code",
   "execution_count": null,
   "id": "e16d2b79",
   "metadata": {},
   "outputs": [],
   "source": [
    "# DESICION TREE\n",
    "\n",
    "test_accuracy= r2_score(b_test,dtc_pred)\n",
    "\n",
    "from sklearn.model_selection import cross_val_score\n",
    "for i in range(2,10):\n",
    "    cv_score=cross_val_score(dtc,a,b,cv=i)\n",
    "    cv_mean=cv_score.mean()\n",
    "    print(f\"At cross fold {i} the Cross Val score is {cv_mean*100} and Accuracy score is {test_accuracy*100}\")"
   ]
  },
  {
   "cell_type": "markdown",
   "id": "601d16d2",
   "metadata": {},
   "source": [
    "# 3) RandomForestRegressor"
   ]
  },
  {
   "cell_type": "code",
   "execution_count": null,
   "id": "df1a7034",
   "metadata": {},
   "outputs": [],
   "source": [
    "from sklearn.ensemble import RandomForestRegressor\n",
    "rf=RandomForestRegressor()\n",
    "rf.fit(a_train,b_train)\n",
    "predrf=rf.predict(a_test)\n",
    "print('Score: ',rf.score(a_train,b_train))\n",
    "print('r2 score: ', r2_score(b_test,predrf))\n",
    "\n",
    "# printing errors\n",
    "\n",
    "print('Mean absolute error:', mean_absolute_error(b_test,predrf))\n",
    "print('Mean squared error:', mean_squared_error(b_test,predrf))\n",
    "print('Root mean squared error:', np.sqrt(mean_squared_error(b_test,predrf)))"
   ]
  },
  {
   "cell_type": "markdown",
   "id": "9fd0c408",
   "metadata": {},
   "source": [
    "### Cross Validation"
   ]
  },
  {
   "cell_type": "code",
   "execution_count": null,
   "id": "99c3ab61",
   "metadata": {},
   "outputs": [],
   "source": [
    "# RANDOM FOREST REGRESSOR\n",
    "test_accuracy= r2_score(b_test,predrf)\n",
    "\n",
    "from sklearn.model_selection import cross_val_score\n",
    "for i in range(2,10):\n",
    "    cv_score=cross_val_score(rf,a,b,cv=i)\n",
    "    cv_mean=cv_score.mean()\n",
    "    print(f\"At cross fold {i} the Cross Val score is {cv_mean*100} and Accuracy score is {test_accuracy*100}\")"
   ]
  },
  {
   "cell_type": "markdown",
   "id": "2a2aa849",
   "metadata": {},
   "source": [
    "# 4) Support Vector Regressor"
   ]
  },
  {
   "cell_type": "code",
   "execution_count": null,
   "id": "d2036a99",
   "metadata": {},
   "outputs": [],
   "source": [
    "from sklearn.svm import SVR\n",
    "svr= SVR()\n",
    "svr.fit(a_train,b_train)\n",
    "preds= svr.predict(a_test)\n",
    "print('Score: ',svr.score(a_train,b_train))\n",
    "print('r2 score: ', r2_score(b_test,preds))\n",
    "\n",
    "# printing errors\n",
    "\n",
    "print('Mean absolute error:', mean_absolute_error(b_test,preds))\n",
    "print('Mean squared error:', mean_squared_error(b_test,preds))\n",
    "print('Root mean squared error:', np.sqrt(mean_squared_error(b_test,preds)))"
   ]
  },
  {
   "cell_type": "markdown",
   "id": "476f1d22",
   "metadata": {},
   "source": [
    "### Cross Validation"
   ]
  },
  {
   "cell_type": "code",
   "execution_count": null,
   "id": "8202140d",
   "metadata": {},
   "outputs": [],
   "source": [
    "# SUPPORT VECTOR REGRESSOR\n",
    "test_accuracy= r2_score(b_test,preds)\n",
    "\n",
    "from sklearn.model_selection import cross_val_score\n",
    "for i in range(2,10):\n",
    "    cv_score=cross_val_score(svr,a,b,cv=i)\n",
    "    cv_mean=cv_score.mean()\n",
    "    print(f\"At cross fold {i} the Cross Val score is {cv_mean*100} and Accuracy score is {test_accuracy*100}\")"
   ]
  },
  {
   "cell_type": "markdown",
   "id": "137b5a25",
   "metadata": {},
   "source": [
    "# 5) ExtraTreesRegressor"
   ]
  },
  {
   "cell_type": "code",
   "execution_count": null,
   "id": "3eac0e22",
   "metadata": {},
   "outputs": [],
   "source": [
    "from sklearn.ensemble import ExtraTreesRegressor\n",
    "\n",
    "ETR=ExtraTreesRegressor()\n",
    "ETR.fit(a_train,b_train)\n",
    "pred_ETR=ETR.predict(a_test)\n",
    "\n",
    "print('Score: ',ETR.score(a_train,b_train))\n",
    "print('r2 score: ', r2_score(b_test,pred_ETR))\n",
    "\n",
    "# printing errors\n",
    "\n",
    "print('Mean absolute error:', mean_absolute_error(b_test,pred_ETR))\n",
    "print('Mean squared error:', mean_squared_error(b_test,pred_ETR))\n",
    "print('Root mean squared error:', np.sqrt(mean_squared_error(b_test,pred_ETR)))\n",
    "\n"
   ]
  },
  {
   "cell_type": "markdown",
   "id": "8defe928",
   "metadata": {},
   "source": [
    "### Cross Validation"
   ]
  },
  {
   "cell_type": "code",
   "execution_count": null,
   "id": "616717cf",
   "metadata": {},
   "outputs": [],
   "source": [
    "test_accuracy= r2_score(b_test,pred_ETR)\n",
    "\n",
    "from sklearn.model_selection import cross_val_score\n",
    "for i in range(2,10):\n",
    "    cv_score=cross_val_score(ETR,a,b,cv=i,n_jobs=3)\n",
    "    cv_mean=cv_score.mean()\n",
    "    print(f\"At cross fold {i} the Cross Val score is {cv_mean*100} and Accuracy score is {test_accuracy*100}\")"
   ]
  },
  {
   "cell_type": "markdown",
   "id": "058ef7c4",
   "metadata": {},
   "source": [
    "ALL MODELS ARE PERFORMING GOOD OUT OF WHICH EXTRATREESREGRESSOR IS DOING BEST"
   ]
  },
  {
   "cell_type": "markdown",
   "id": "6311e10c",
   "metadata": {},
   "source": [
    "## Hyperparameter tuning"
   ]
  },
  {
   "cell_type": "code",
   "execution_count": null,
   "id": "ee83c855",
   "metadata": {},
   "outputs": [],
   "source": [
    "from sklearn.model_selection import GridSearchCV\n",
    "\n",
    "par_etr={'criterion' : [\"mse\", \"mae\"],'max_features':['auto','sqrt','log2']}\n",
    "gcv_etr= GridSearchCV(ETR,par_etr) \n",
    "gcv_etr.fit(a_train,b_train)\n",
    "gcv_etr.best_params_"
   ]
  },
  {
   "cell_type": "code",
   "execution_count": null,
   "id": "12ed66d5",
   "metadata": {},
   "outputs": [],
   "source": [
    "mod1= ExtraTreesRegressor(criterion='mae', max_features='sqrt', random_state=11)\n",
    "mod1.fit(a_train,b_train)\n",
    "pred1=mod1.predict(a_test)\n",
    "print('Score: ',mod1.score(a_train,b_train))\n",
    "print('r2 score: ', r2_score(b_test,pred1))"
   ]
  },
  {
   "cell_type": "markdown",
   "id": "94d6f387",
   "metadata": {},
   "source": [
    "### ALL MODELS ARE DOING GREAT JOB, OUT OF WHICH ExtraTreesRegressor IS BEST\n"
   ]
  },
  {
   "cell_type": "code",
   "execution_count": null,
   "id": "25bcefc9",
   "metadata": {},
   "outputs": [],
   "source": [
    "#ExtraTreesRegressor\n",
    "plt.figure(figsize=(8,7))\n",
    "plt.scatter(x=b_test, y= pred1, color='r')\n",
    "plt.plot(b_test,b_test, color='b')\n",
    "plt.xlabel('Actual capacity_mw', fontsize= 14 )\n",
    "plt.ylabel('Predicted capacity_mw', fontsize= 18)\n",
    "plt.show()"
   ]
  },
  {
   "cell_type": "markdown",
   "id": "60992a0e",
   "metadata": {},
   "source": [
    "# Final Prediction Submission"
   ]
  },
  {
   "cell_type": "code",
   "execution_count": null,
   "id": "1e8b2498",
   "metadata": {},
   "outputs": [],
   "source": [
    "import numpy as np\n",
    "z = np.array(b_test)\n",
    "predicted = np.array(mod1.predict(a_test))\n",
    "df = pd.DataFrame(zip(z,predicted), columns = [\"Original\",\"Predicted\"])\n",
    "df"
   ]
  },
  {
   "cell_type": "markdown",
   "id": "f85bbe8f",
   "metadata": {},
   "source": [
    "# Saving the Model WITH ExtraTreesRegressor"
   ]
  },
  {
   "cell_type": "code",
   "execution_count": null,
   "id": "e08dc191",
   "metadata": {},
   "outputs": [],
   "source": [
    "# save the model to disk\n",
    "import pickle\n",
    "\n",
    "filename = 'POWER_PLANT_capacity.pkl'\n",
    "pickle.dump(mod1, open(filename, 'wb'))\n",
    "\n"
   ]
  },
  {
   "cell_type": "code",
   "execution_count": null,
   "id": "4c6aa5c3",
   "metadata": {},
   "outputs": [],
   "source": [
    "# load the model from disk\n",
    "\n",
    "loaded_model = pickle.load(open(filename, 'rb'))\n",
    "result = loaded_model.score(a_test,b_test)\n",
    "print(result)"
   ]
  },
  {
   "cell_type": "code",
   "execution_count": null,
   "id": "d545c906",
   "metadata": {},
   "outputs": [],
   "source": []
  },
  {
   "cell_type": "code",
   "execution_count": null,
   "id": "90e4bb96",
   "metadata": {},
   "outputs": [],
   "source": []
  },
  {
   "cell_type": "code",
   "execution_count": null,
   "id": "a485daf8",
   "metadata": {},
   "outputs": [],
   "source": []
  },
  {
   "cell_type": "code",
   "execution_count": null,
   "id": "5b9ecd2d",
   "metadata": {},
   "outputs": [],
   "source": []
  },
  {
   "cell_type": "code",
   "execution_count": null,
   "id": "c1b029ab",
   "metadata": {},
   "outputs": [],
   "source": []
  },
  {
   "cell_type": "code",
   "execution_count": null,
   "id": "a81ace4c",
   "metadata": {},
   "outputs": [],
   "source": []
  },
  {
   "cell_type": "code",
   "execution_count": null,
   "id": "60427639",
   "metadata": {},
   "outputs": [],
   "source": []
  },
  {
   "cell_type": "code",
   "execution_count": null,
   "id": "ad6d66c1",
   "metadata": {},
   "outputs": [],
   "source": []
  },
  {
   "cell_type": "code",
   "execution_count": null,
   "id": "4af98e08",
   "metadata": {},
   "outputs": [],
   "source": []
  },
  {
   "cell_type": "code",
   "execution_count": null,
   "id": "49fe6b7b",
   "metadata": {},
   "outputs": [],
   "source": []
  }
 ],
 "metadata": {
  "kernelspec": {
   "display_name": "Python 3 (ipykernel)",
   "language": "python",
   "name": "python3"
  },
  "language_info": {
   "codemirror_mode": {
    "name": "ipython",
    "version": 3
   },
   "file_extension": ".py",
   "mimetype": "text/x-python",
   "name": "python",
   "nbconvert_exporter": "python",
   "pygments_lexer": "ipython3",
   "version": "3.9.7"
  }
 },
 "nbformat": 4,
 "nbformat_minor": 5
}
