{
 "cells": [
  {
   "cell_type": "code",
   "execution_count": null,
   "id": "78b935b7",
   "metadata": {},
   "outputs": [],
   "source": [
    "#IMPORTING NEEDED LIBRARIES\n",
    "import pandas as pd\n",
    "import numpy as np\n",
    "import seaborn as sns\n",
    "import matplotlib.pyplot as plt\n",
    "import warnings\n",
    "warnings.filterwarnings('ignore')\n"
   ]
  },
  {
   "cell_type": "code",
   "execution_count": null,
   "id": "771d19bf",
   "metadata": {},
   "outputs": [],
   "source": [
    "df=pd.read_csv(\"Census_Income_Project.csv\")\n",
    "df"
   ]
  },
  {
   "cell_type": "code",
   "execution_count": null,
   "id": "a4734b4c",
   "metadata": {},
   "outputs": [],
   "source": [
    "df.columns"
   ]
  },
  {
   "cell_type": "markdown",
   "id": "ed25706f",
   "metadata": {},
   "source": [
    "# EDA (EXPLORATORY DATA ANALYSIS)"
   ]
  },
  {
   "cell_type": "code",
   "execution_count": null,
   "id": "f102dffc",
   "metadata": {},
   "outputs": [],
   "source": [
    "df.describe()"
   ]
  },
  {
   "cell_type": "markdown",
   "id": "48e00760",
   "metadata": {},
   "source": [
    "SKEWNESS AND OUTLIERS ARE PRESENT \n",
    "\n",
    "MEAN,MEADIAN AND MODE ARE NOR EQUAL IN ANY CASE SO NO NORMAL DISTRIBUTION\n",
    "\n",
    "DEVIATION PRESENT"
   ]
  },
  {
   "cell_type": "code",
   "execution_count": null,
   "id": "256e80f8",
   "metadata": {},
   "outputs": [],
   "source": [
    "df.dtypes"
   ]
  },
  {
   "cell_type": "code",
   "execution_count": null,
   "id": "8253e77e",
   "metadata": {},
   "outputs": [],
   "source": [
    "df.isnull().sum()"
   ]
  },
  {
   "cell_type": "code",
   "execution_count": null,
   "id": "7872cacb",
   "metadata": {},
   "outputs": [],
   "source": [
    "plt.figure(figsize=(12,10))\n",
    "sns.heatmap(df.isnull())"
   ]
  },
  {
   "cell_type": "markdown",
   "id": "c8d69bd4",
   "metadata": {},
   "source": [
    "## NO NULL RECOREDS OR MISSING VALUE"
   ]
  },
  {
   "cell_type": "code",
   "execution_count": null,
   "id": "313ea33f",
   "metadata": {},
   "outputs": [],
   "source": [
    "df['Income'].value_counts()"
   ]
  },
  {
   "cell_type": "code",
   "execution_count": null,
   "id": "9baa6f09",
   "metadata": {},
   "outputs": [],
   "source": [
    "df['Workclass'].value_counts()"
   ]
  },
  {
   "cell_type": "code",
   "execution_count": null,
   "id": "a58743be",
   "metadata": {},
   "outputs": [],
   "source": [
    "df['Marital_status'].value_counts()"
   ]
  },
  {
   "cell_type": "code",
   "execution_count": null,
   "id": "7447ed83",
   "metadata": {},
   "outputs": [],
   "source": [
    "df['Occupation'].value_counts()"
   ]
  },
  {
   "cell_type": "code",
   "execution_count": null,
   "id": "92bcf3ed",
   "metadata": {},
   "outputs": [],
   "source": [
    "df['Relationship'].value_counts()"
   ]
  },
  {
   "cell_type": "code",
   "execution_count": null,
   "id": "d0cff940",
   "metadata": {},
   "outputs": [],
   "source": [
    "df['Native_country'].value_counts()"
   ]
  },
  {
   "cell_type": "code",
   "execution_count": null,
   "id": "b22eb1b4",
   "metadata": {},
   "outputs": [],
   "source": [
    "plt.figure(figsize=(20,8))\n",
    "\n",
    "plt.title(\"Education vs Income\",fontsize= 25,\n",
    "        fontweight =200,\n",
    "        color = 'blue',)\n",
    "\n",
    "sns.countplot(data=df,x='Education',hue='Income',palette=\"cubehelix\")"
   ]
  },
  {
   "cell_type": "markdown",
   "id": "dc760af9",
   "metadata": {},
   "source": [
    "HIGHER THE EDUCATION HIGH WOULD BE SALARY.\n",
    "\n",
    "SALARY ABOVE $50K IS HIGH FOR BACHELORS DEGREE QUALIFICATION.\n",
    "\n",
    "SALARY UNDER $50K IS HIGH FOR HS-GRADE AND SEMICOLLEGE."
   ]
  },
  {
   "cell_type": "code",
   "execution_count": null,
   "id": "2a6725d3",
   "metadata": {},
   "outputs": [],
   "source": [
    "plt.figure(figsize=(20,10))\n",
    "\n",
    "\n",
    "colors=sns.color_palette('viridis')\n",
    "labels=df['Workclass'].dropna().unique()\n",
    "\n",
    "plt.title('Workclass',fontsize= 25,\n",
    "        fontweight =200,\n",
    "        color = 'blue')\n",
    "plt.pie(df['Workclass'].value_counts(),explode=[0.05,0.05,0.05,0.05,0.05,0.05,0.05,0.05,0.05],\n",
    "        labels=labels, \n",
    "        colors=colors, \n",
    "        autopct='%.2f%%')\n"
   ]
  },
  {
   "cell_type": "markdown",
   "id": "68e0a9d3",
   "metadata": {},
   "source": [
    "self emp not inc are the highest in nos in workclass followed by private and state gov."
   ]
  },
  {
   "cell_type": "code",
   "execution_count": null,
   "id": "0d0ccb73",
   "metadata": {},
   "outputs": [],
   "source": [
    "plt.figure(figsize=(15,10))\n",
    "\n",
    "plt.title('Workclass vs Income',fontsize= 25,\n",
    "        fontweight =200,\n",
    "        color = 'blue',)\n",
    "\n",
    "\n",
    "\n",
    "sns.countplot(x=\"Workclass\", data=df,palette='flare',hue='Income')"
   ]
  },
  {
   "cell_type": "markdown",
   "id": "be2624bb",
   "metadata": {},
   "source": [
    "PRIVATE WORKERS ARE HAVING SALARY HIGH ABOVE $50k and also high for under $50k\n",
    "\n",
    "never worked dont ahve any salary"
   ]
  },
  {
   "cell_type": "code",
   "execution_count": null,
   "id": "4f126fe0",
   "metadata": {},
   "outputs": [],
   "source": [
    "plt.figure(figsize=(30,12))\n",
    "sns.countplot(data=df,x='Occupation',palette='gist_ncar',hue='Income')\n",
    "plt.title('Occupation vs Income',fontsize= 25,\n",
    "        fontweight =200,\n",
    "        color = 'purple',)\n",
    "plt.show()"
   ]
  },
  {
   "cell_type": "markdown",
   "id": "58510a30",
   "metadata": {},
   "source": [
    "SALARY ABOVE $50K IS HIGH FOR EXEC MANAGERIAL AND PROF-SPECIALITY\n",
    "\n",
    "AND IS NULL FOR ARMED FORCES AND SERVANTS\n",
    "\n",
    "\n",
    "HENCE SALARY ALSO DEPENDS UPON POST AND DEMAND ON PARTICULAR SECTOR"
   ]
  },
  {
   "cell_type": "code",
   "execution_count": null,
   "id": "3327666e",
   "metadata": {},
   "outputs": [],
   "source": [
    "sns.set(style=\"darkgrid\")\n",
    "fig, axs = plt.subplots(2, 2, figsize=(18, 14))\n",
    "\n",
    "sns.histplot(data=df, y=\"Workclass\", kde=True, ax=axs[0, 0], color='green')\n",
    "sns.histplot(data=df, x=\"Fnlwgt\", kde=True, ax=axs[0, 1], color='skyblue')\n",
    "sns.histplot(data=df, y=\"Occupation\", kde=True, ax=axs[1, 0], color='black')\n",
    "sns.histplot(data=df, x=\"Income\", kde=True, ax=axs[1, 1] ,color='pink')"
   ]
  },
  {
   "cell_type": "markdown",
   "id": "8d95d080",
   "metadata": {},
   "source": [
    "RIGHT SKEWNESS PRESENT IN FINAL WEIGHT\n",
    "\n",
    "PRIVATE WORKCLASS ARE HIGH COMPARED TO OTHERS\n",
    "\n",
    "INCOME ABOVE 50K ARE LESS THAN UNDER 50K."
   ]
  },
  {
   "cell_type": "code",
   "execution_count": null,
   "id": "2c8831f1",
   "metadata": {},
   "outputs": [],
   "source": [
    "\n",
    "plt.figure(figsize=(12,8))\n",
    "\n",
    "plt.title(\"Relationship vs Income\",fontsize= 25,\n",
    "        fontweight =200,\n",
    "        color = 'red',)\n",
    "\n",
    "\n",
    "sns.countplot(data=df,x='Relationship',hue='Income',palette='ocean_r')"
   ]
  },
  {
   "cell_type": "markdown",
   "id": "f6d96e80",
   "metadata": {},
   "source": [
    "HUSBAND ARE EARNING MORE THAN ANY.\n",
    "\n",
    "MANY OWN CHILD ARE EARNING UNDER 50K"
   ]
  },
  {
   "cell_type": "code",
   "execution_count": null,
   "id": "6ad0d891",
   "metadata": {},
   "outputs": [],
   "source": [
    "plt.figure(figsize=(12,8))\n",
    "\n",
    "plt.title(\"Marital_status vs Income\",fontsize= 25,\n",
    "        fontweight =200,\n",
    "        color = 'green',)\n",
    "\n",
    "\n",
    "sns.countplot(data=df,x='Marital_status',hue='Income',palette=\"gnuplot\")"
   ]
  },
  {
   "cell_type": "markdown",
   "id": "8dda21dd",
   "metadata": {},
   "source": [
    "MAJORITY ARE EARNING UNDER 50K WHO NEVER MARRIED BUT ARE HAPPY.\n",
    "\n",
    "MARRIED CIV SPOUSE ARE HIGH IN EARNING IN BOTH THE CASES."
   ]
  },
  {
   "cell_type": "code",
   "execution_count": null,
   "id": "b443a81e",
   "metadata": {},
   "outputs": [],
   "source": [
    "plt.figure(figsize=(10,8))\n",
    "sns.kdeplot(data=df,x='Hours_per_week',hue='Income')\n",
    "plt.show()"
   ]
  },
  {
   "cell_type": "markdown",
   "id": "9e601834",
   "metadata": {},
   "source": [
    "MAXIMUM 40 HOURS PER WEEK ARE HIGHEST IN NUMBER."
   ]
  },
  {
   "cell_type": "code",
   "execution_count": null,
   "id": "aebb96e4",
   "metadata": {},
   "outputs": [],
   "source": [
    "sns.pairplot(df)"
   ]
  },
  {
   "cell_type": "markdown",
   "id": "b2349613",
   "metadata": {},
   "source": [
    "20 TO 50 AGE ARE WOTKING FOR MORE HOURS THAN OLD AGE.\n",
    "\n",
    "EDUCATION NUM ARE HAVING SOME OUTLIERS WITH RESPECT TO AGE.\n",
    "\n",
    "CAPITAL LOSS ARE INVERSELY PROPOTIONAL TO CAPITAL GAIN."
   ]
  },
  {
   "cell_type": "code",
   "execution_count": null,
   "id": "fe557125",
   "metadata": {},
   "outputs": [],
   "source": [
    "Income = df[[\"Income\"]]\n",
    "Income = pd.get_dummies(Income, drop_first= True)\n",
    "\n",
    "df = pd.concat([df, Income], axis = 1)\n",
    "df.head()"
   ]
  },
  {
   "cell_type": "markdown",
   "id": "8efd4a59",
   "metadata": {},
   "source": [
    "# Correlation"
   ]
  },
  {
   "cell_type": "code",
   "execution_count": null,
   "id": "4c7b2e27",
   "metadata": {},
   "outputs": [],
   "source": [
    "df.corr()"
   ]
  },
  {
   "cell_type": "code",
   "execution_count": null,
   "id": "6c0d0d9b",
   "metadata": {},
   "outputs": [],
   "source": [
    "plt.figure(figsize=(22,7))\n",
    "df.corr()['Income_ >50K'].sort_values(ascending=False).plot(kind='bar',color='m')\n",
    "plt.xlabel('feature',fontsize=14)\n",
    "plt.ylabel('column with target names',fontsize=14)\n",
    "plt.title('correlation',fontsize=18)\n",
    "plt.show()"
   ]
  },
  {
   "cell_type": "markdown",
   "id": "0279cd34",
   "metadata": {},
   "source": [
    "ALL ARE POSITIVELY CORRELATED"
   ]
  },
  {
   "cell_type": "code",
   "execution_count": null,
   "id": "c8793453",
   "metadata": {},
   "outputs": [],
   "source": [
    "plt.figure(figsize=(18,12))\n",
    "sns.heatmap(df.corr(),cmap='cividis',annot=True,linecolor='Black',linewidths=.2)"
   ]
  },
  {
   "cell_type": "markdown",
   "id": "87e65f08",
   "metadata": {},
   "source": [
    "CAPITAL LOSS IS NEGATIVELY CORRELATED TO CAPITAL GAIN\n",
    "\n",
    "HOURS PER WEEK IS DIRCTLY PROPOTIONAL TO INCOME ABOVE $50K.\n",
    "\n",
    "\n",
    "\n",
    "# Handling Categorical Data\n",
    "One can find many ways to handle categorical data. Some of them categorical data are,\n",
    "\n",
    "Nominal data --> data are not in any order --> OneHotEncoder is used in this case\n",
    "\n",
    "Ordinal data --> data are in order --> LabelEncoder is used in this case"
   ]
  },
  {
   "cell_type": "code",
   "execution_count": null,
   "id": "bb4735cc",
   "metadata": {},
   "outputs": [],
   "source": [
    "df.dtypes"
   ]
  },
  {
   "cell_type": "code",
   "execution_count": null,
   "id": "bec04c8c",
   "metadata": {},
   "outputs": [],
   "source": [
    "# APLLYING LABEL ENCODER TO REST AS THEY ARE ORDINAL DATA\n",
    "\n",
    "from sklearn.preprocessing import LabelEncoder\n",
    "LE = LabelEncoder()"
   ]
  },
  {
   "cell_type": "code",
   "execution_count": null,
   "id": "8d9e3ac3",
   "metadata": {},
   "outputs": [],
   "source": [
    "df['Marital_status'] = LE.fit_transform(df['Marital_status'])\n",
    "df['Relationship'] = LE.fit_transform(df['Relationship'])\n",
    "df['Race'] = LE.fit_transform(df['Race'])\n",
    "df['Sex'] = LE.fit_transform(df['Sex'])\n",
    "df['Workclass'] = LE.fit_transform(df['Workclass'])\n",
    "df['Education'] = LE.fit_transform(df['Education'])\n",
    "df['Occupation'] = LE.fit_transform(df['Occupation'])\n",
    "df['Native_country'] = LE.fit_transform(df['Native_country'])\n",
    "\n",
    "df.head()"
   ]
  },
  {
   "cell_type": "code",
   "execution_count": null,
   "id": "f92fb768",
   "metadata": {},
   "outputs": [],
   "source": [
    "df.drop([\"Income\"], axis = 1, inplace = True)\n",
    "df.head()"
   ]
  },
  {
   "cell_type": "markdown",
   "id": "20c679dc",
   "metadata": {},
   "source": [
    "**AS WE ONLY HAVE TO FIND SALARY ABOVE 50K, SO CONVERTED INTO ORDINAL DATA AND DROPPING INCOME.**"
   ]
  },
  {
   "cell_type": "markdown",
   "id": "7f4b216b",
   "metadata": {},
   "source": [
    "# CHECKING OUTLIERS"
   ]
  },
  {
   "cell_type": "code",
   "execution_count": null,
   "id": "3c38a10b",
   "metadata": {},
   "outputs": [],
   "source": [
    "df.plot(kind='box',subplots=True,layout=(4,4),figsize=(10,15))\n",
    "plt.tight_layout()\n"
   ]
  },
  {
   "cell_type": "markdown",
   "id": "6c25c8cf",
   "metadata": {},
   "source": [
    "MANY OUTLIERS PRESENT AND ALSO THE DATA IS IMBALANCED\n",
    "\n",
    "# REMOVING OUTLIERS\n",
    "BY ZSCORE"
   ]
  },
  {
   "cell_type": "code",
   "execution_count": null,
   "id": "8ffab4ae",
   "metadata": {
    "scrolled": true
   },
   "outputs": [],
   "source": [
    "from scipy.stats import zscore\n",
    "\n",
    "z=np.abs(zscore(df))\n",
    "z"
   ]
  },
  {
   "cell_type": "code",
   "execution_count": null,
   "id": "98ddbc80",
   "metadata": {},
   "outputs": [],
   "source": [
    "threshold=4\n",
    "print(np.where(z>4))"
   ]
  },
  {
   "cell_type": "code",
   "execution_count": null,
   "id": "380afc21",
   "metadata": {},
   "outputs": [],
   "source": [
    "df1=df[(z<4).all(axis=1)]\n",
    "df1"
   ]
  },
  {
   "cell_type": "markdown",
   "id": "3c8867cb",
   "metadata": {},
   "source": [
    "# Percentage loss"
   ]
  },
  {
   "cell_type": "code",
   "execution_count": null,
   "id": "bce86447",
   "metadata": {},
   "outputs": [],
   "source": [
    "loss_percent=(32560-29813)/29813*100\n",
    "print(loss_percent,'%')"
   ]
  },
  {
   "cell_type": "markdown",
   "id": "21976dfc",
   "metadata": {},
   "source": [
    "# Separating Dataset"
   ]
  },
  {
   "cell_type": "code",
   "execution_count": null,
   "id": "4fe97901",
   "metadata": {},
   "outputs": [],
   "source": [
    "#independent column\n",
    "x=df1.drop(['Income_ >50K'],axis=1)\n",
    "#target\n",
    "y=df1['Income_ >50K']"
   ]
  },
  {
   "cell_type": "code",
   "execution_count": null,
   "id": "650b2061",
   "metadata": {},
   "outputs": [],
   "source": [
    "x.shape"
   ]
  },
  {
   "cell_type": "code",
   "execution_count": null,
   "id": "5ab05b39",
   "metadata": {},
   "outputs": [],
   "source": [
    "y.shape"
   ]
  },
  {
   "cell_type": "markdown",
   "id": "bfc5e9aa",
   "metadata": {},
   "source": [
    "# Skewness check"
   ]
  },
  {
   "cell_type": "code",
   "execution_count": null,
   "id": "c7893946",
   "metadata": {},
   "outputs": [],
   "source": [
    "df1.skew()"
   ]
  },
  {
   "cell_type": "code",
   "execution_count": null,
   "id": "cee042be",
   "metadata": {},
   "outputs": [],
   "source": [
    "plt.figure(figsize=(20,25),facecolor='white')\n",
    "plotnumber=1\n",
    "for column in df.columns:\n",
    "    if plotnumber<=15:\n",
    "        ax=plt.subplot(5,3,plotnumber)\n",
    "        sns.distplot(df1[column])\n",
    "        plt.xlabel(column,fontsize=20)\n",
    "    plotnumber+=1\n",
    "plt.show()"
   ]
  },
  {
   "cell_type": "markdown",
   "id": "35e5f94a",
   "metadata": {},
   "source": [
    "ALMOST ALL COLUMNS ARE HAVING SKEWNESS\n"
   ]
  },
  {
   "cell_type": "code",
   "execution_count": null,
   "id": "9828a282",
   "metadata": {},
   "outputs": [],
   "source": [
    "from sklearn.preprocessing import power_transform\n",
    "df1=power_transform(x,method='yeo-johnson')\n",
    "df1"
   ]
  },
  {
   "cell_type": "markdown",
   "id": "de3c94c0",
   "metadata": {},
   "source": [
    "# Scaling"
   ]
  },
  {
   "cell_type": "code",
   "execution_count": null,
   "id": "39e722f0",
   "metadata": {},
   "outputs": [],
   "source": [
    "from sklearn.preprocessing import StandardScaler\n",
    "sc=StandardScaler()\n",
    "x=sc.fit_transform(x)\n",
    "x"
   ]
  },
  {
   "cell_type": "markdown",
   "id": "6032cd6b",
   "metadata": {},
   "source": [
    "# SMOTE FOR BALANCING DATA"
   ]
  },
  {
   "cell_type": "code",
   "execution_count": null,
   "id": "cdc06692",
   "metadata": {},
   "outputs": [],
   "source": [
    "#SMOTE(synthetic Minority over sampling technique)\n",
    "#It's use for Balancing the dataset\n",
    "\n",
    "from imblearn.over_sampling import SMOTE\n",
    "sm=SMOTE()\n",
    "\n",
    "x_train,y_train=sm.fit_resample(x,y)\n",
    "y_train"
   ]
  },
  {
   "cell_type": "code",
   "execution_count": null,
   "id": "c62aab82",
   "metadata": {},
   "outputs": [],
   "source": [
    "y_train.value_counts()"
   ]
  },
  {
   "cell_type": "code",
   "execution_count": null,
   "id": "6768cbf8",
   "metadata": {},
   "outputs": [],
   "source": [
    "sns.countplot(y_train)"
   ]
  },
  {
   "cell_type": "markdown",
   "id": "95e7e19b",
   "metadata": {},
   "source": [
    "# Splitting the DataFrame and Model selection"
   ]
  },
  {
   "cell_type": "code",
   "execution_count": null,
   "id": "86f25432",
   "metadata": {},
   "outputs": [],
   "source": [
    "from sklearn.model_selection import train_test_split\n",
    "x_train,x_test,y_train,y_test=train_test_split(x,y,test_size=0.22,random_state=141)"
   ]
  },
  {
   "cell_type": "markdown",
   "id": "a93464bb",
   "metadata": {},
   "source": [
    "# 1)LOGISTIC REGRESSION "
   ]
  },
  {
   "cell_type": "code",
   "execution_count": null,
   "id": "52ede8b2",
   "metadata": {},
   "outputs": [],
   "source": [
    "from sklearn.linear_model import LogisticRegression\n",
    "from sklearn.metrics import accuracy_score\n",
    "from sklearn.metrics import classification_report,confusion_matrix\n",
    "\n",
    "lo=LogisticRegression()\n",
    "lo.fit(x_train,y_train)\n",
    "lo.score(x_train,y_train)\n",
    "predlo=lo.predict(x_test)\n",
    "\n",
    "\n",
    "print('Accuracy Score is''\\n',accuracy_score(y_test,predlo))\n",
    "print('Confusion Matrix''\\n',confusion_matrix(y_test,predlo))\n",
    "print(classification_report(y_test,predlo))"
   ]
  },
  {
   "cell_type": "markdown",
   "id": "9de2680b",
   "metadata": {},
   "source": [
    "### CROSS VALIDATION"
   ]
  },
  {
   "cell_type": "code",
   "execution_count": null,
   "id": "826f5acd",
   "metadata": {},
   "outputs": [],
   "source": [
    "test_accuracy= accuracy_score(y_test,predlo)\n",
    "\n",
    "from sklearn.model_selection import cross_val_score\n",
    "for i in range(2,10):\n",
    "    cv_score=cross_val_score(lo,x,y,cv=i,n_jobs=2)\n",
    "    cv_mean=cv_score.mean()\n",
    "    print(f\"At cross fold {i} the Cross Val score is {cv_mean*100} and Accuracy score is {test_accuracy*100}\")"
   ]
  },
  {
   "cell_type": "markdown",
   "id": "27c71f93",
   "metadata": {},
   "source": [
    "**Logistic Regression IS HAVING GOOD RESULTS**\n",
    "###### WE WILL FIRST CHECK OTHER MODEL RESULTS AND THEN CONCLUDE\n",
    "\n",
    "\n",
    "# 2) DecisionTreeClassifier"
   ]
  },
  {
   "cell_type": "code",
   "execution_count": null,
   "id": "7a6df632",
   "metadata": {},
   "outputs": [],
   "source": [
    "\n",
    "from sklearn.tree import DecisionTreeClassifier\n",
    "\n",
    "dt=DecisionTreeClassifier()\n",
    "dt.fit(x_train,y_train)\n",
    "pred_dt=dt.predict(x_test)\n",
    "print('Accuracy score''\\n',accuracy_score(y_test,pred_dt))\n",
    "print('Confusion Matrix''\\n',confusion_matrix(y_test,pred_dt))\n",
    "print('Classification Report''\\n',classification_report(y_test,pred_dt))"
   ]
  },
  {
   "cell_type": "markdown",
   "id": "2b7b102c",
   "metadata": {},
   "source": [
    "### CROSS VALIDATION"
   ]
  },
  {
   "cell_type": "code",
   "execution_count": null,
   "id": "917f10a7",
   "metadata": {},
   "outputs": [],
   "source": [
    "test_accuracy= accuracy_score(y_test,pred_dt)\n",
    "\n",
    "from sklearn.model_selection import cross_val_score\n",
    "for i in range(2,10):\n",
    "    cv_score=cross_val_score(dt,x,y,cv=i)\n",
    "    cv_mean=cv_score.mean()\n",
    "    print(f\"At cross fold {i} the Cross Val score is {cv_mean*100} and Accuracy score is {test_accuracy*100}\")"
   ]
  },
  {
   "cell_type": "markdown",
   "id": "df3b2de1",
   "metadata": {},
   "source": [
    "**DecisionTreeClassifier IS HAVING GOOD RESULTS**\n",
    "###### WE WILL FIRST CHECK OTHER MODEL RESULTS AND THEN CONCLUDE\n",
    "\n",
    "# 3) RandomForestClassifier"
   ]
  },
  {
   "cell_type": "code",
   "execution_count": null,
   "id": "40993449",
   "metadata": {},
   "outputs": [],
   "source": [
    "from sklearn.ensemble import RandomForestClassifier\n",
    "\n",
    "rfc=RandomForestClassifier()\n",
    "rfc.fit(x_train,y_train)\n",
    "pred_rfc=rfc.predict(x_test)\n",
    "print('Accuracy score''\\n',accuracy_score(y_test,pred_rfc))\n",
    "print('Confusion Matrix''\\n',confusion_matrix(y_test,pred_rfc))\n",
    "print('Classification Report''\\n',classification_report(y_test,pred_rfc))"
   ]
  },
  {
   "cell_type": "markdown",
   "id": "89a9d2ed",
   "metadata": {},
   "source": [
    "### CROSS VALIDATION"
   ]
  },
  {
   "cell_type": "code",
   "execution_count": null,
   "id": "9693416a",
   "metadata": {},
   "outputs": [],
   "source": [
    "test_accuracy= accuracy_score(y_test,pred_rfc)\n",
    "\n",
    "from sklearn.model_selection import cross_val_score\n",
    "for i in range(2,10):\n",
    "    cv_score=cross_val_score(rfc,x,y,cv=i)\n",
    "    cv_mean=cv_score.mean()\n",
    "    print(f\"At cross fold {i} the Cross Val score is {cv_mean*100} and Accuracy score is {test_accuracy*100}\")"
   ]
  },
  {
   "cell_type": "markdown",
   "id": "37d0b29c",
   "metadata": {},
   "source": [
    "**RandomForestClassifier IS HAVING GOOD RESULTS**\n",
    "###### WE WILL FIRST CHECK OTHER MODEL RESULTS AND THEN CONCLUDE\n",
    "\n",
    "# 4) SUPPORT VECTOR CLASSIFIER"
   ]
  },
  {
   "cell_type": "code",
   "execution_count": null,
   "id": "89cb86d4",
   "metadata": {},
   "outputs": [],
   "source": [
    "from sklearn.svm import SVC\n",
    "\n",
    "svc=SVC()\n",
    "svc.fit(x_train,y_train)\n",
    "pred_svc=svc.predict(x_test)\n",
    "print('Accuracy score''\\n',accuracy_score(y_test,pred_svc))\n",
    "print('Confusion Matrix''\\n',confusion_matrix(y_test,pred_svc))\n",
    "print('Classification Report''\\n',classification_report(y_test,pred_svc))"
   ]
  },
  {
   "cell_type": "markdown",
   "id": "5d1af96a",
   "metadata": {},
   "source": [
    "### CROSS VALIDATION"
   ]
  },
  {
   "cell_type": "code",
   "execution_count": null,
   "id": "7e222d90",
   "metadata": {},
   "outputs": [],
   "source": [
    "test_accuracy= accuracy_score(y_test,pred_svc)\n",
    "\n",
    "from sklearn.model_selection import cross_val_score\n",
    "for i in range(2,10):\n",
    "    cv_score=cross_val_score(svc,x,y,cv=i)\n",
    "    cv_mean=cv_score.mean()\n",
    "    print(f\"At cross fold {i} the Cross Val score is {cv_mean*100} and Accuracy score is {test_accuracy*100}\")"
   ]
  },
  {
   "cell_type": "markdown",
   "id": "ec36b228",
   "metadata": {},
   "source": [
    "**SUPPORT VECTOR CLASSIFIER IS HAVING GOOD RESULTS**\n",
    "###### WE WILL FIRST CHECK OTHER MODEL RESULTS AND THEN CONCLUDE\n",
    "\n",
    "# 5) GradientBoostingClassifier"
   ]
  },
  {
   "cell_type": "code",
   "execution_count": null,
   "id": "77337c4e",
   "metadata": {},
   "outputs": [],
   "source": [
    "\n",
    "# Gradient Boosting Classifier\n",
    "from sklearn.ensemble import GradientBoostingClassifier\n",
    "\n",
    "gbk = GradientBoostingClassifier()\n",
    "gbk.fit(x_train, y_train)\n",
    "pred_gbk = gbk.predict(x_test)\n",
    "print('Accuracy score''\\n',accuracy_score(pred_gbk,y_test))\n",
    "print('Confusion Matrix''\\n',confusion_matrix(y_test,pred_gbk))\n",
    "print('Classification Report''\\n',classification_report(y_test,pred_gbk))\n"
   ]
  },
  {
   "cell_type": "markdown",
   "id": "38740de0",
   "metadata": {},
   "source": [
    "### CROSS VALIDATION"
   ]
  },
  {
   "cell_type": "code",
   "execution_count": null,
   "id": "056e7e20",
   "metadata": {},
   "outputs": [],
   "source": [
    "test_accuracy= accuracy_score(y_test,pred_gbk)\n",
    "\n",
    "from sklearn.model_selection import cross_val_score\n",
    "for i in range(2,10):\n",
    "    cv_score=cross_val_score(gbk,x,y,cv=i,n_jobs=5)\n",
    "    cv_mean=cv_score.mean()\n",
    "    print(f\"At cross fold {i} the Cross Val score is {cv_mean*100} and Accuracy score is {test_accuracy*100}\")"
   ]
  },
  {
   "cell_type": "markdown",
   "id": "ccc10d8e",
   "metadata": {},
   "source": [
    "**GradientBoostingClassifier IS HAVING GOOD RESULTS**\n",
    "###### WE WILL FIRST CHECK OTHER MODEL RESULTS AND THEN CONCLUDE\n",
    "\n",
    "# 6) ExtraTreesClassifier"
   ]
  },
  {
   "cell_type": "code",
   "execution_count": null,
   "id": "a4540d52",
   "metadata": {},
   "outputs": [],
   "source": [
    "from sklearn.ensemble import ExtraTreesClassifier\n",
    "\n",
    "ETC=ExtraTreesClassifier()\n",
    "ETC.fit(x_train,y_train)\n",
    "pred_ETC=ETC.predict(x_test)\n",
    "print('Accuracy score''\\n',accuracy_score(y_test,pred_ETC))\n",
    "print('Confusion Matrix''\\n',confusion_matrix(y_test,pred_ETC))\n",
    "print('Classification Report''\\n',classification_report(y_test,pred_ETC))\n",
    "\n"
   ]
  },
  {
   "cell_type": "markdown",
   "id": "4df39935",
   "metadata": {},
   "source": [
    "### CROSS VALIDATION"
   ]
  },
  {
   "cell_type": "code",
   "execution_count": null,
   "id": "8ae7a504",
   "metadata": {},
   "outputs": [],
   "source": [
    "test_accuracy= accuracy_score(y_test,pred_ETC)\n",
    "\n",
    "from sklearn.model_selection import cross_val_score\n",
    "for i in range(2,10):\n",
    "    cv_score=cross_val_score(ETC,x,y,cv=i)\n",
    "    cv_mean=cv_score.mean()\n",
    "    print(f\"At cross fold {i} the Cross Val score is {cv_mean*100} and Accuracy score is {test_accuracy*100}\")"
   ]
  },
  {
   "cell_type": "markdown",
   "id": "9d5a6f3a",
   "metadata": {},
   "source": [
    "**ExtraTreesClassifier IS HAVING GOOD RESULTS**\n",
    "###### WE WILL FIRST CHECK OTHER MODEL RESULTS AND THEN CONCLUDE\n",
    "\n",
    "# 7)KNeighborsClassifier"
   ]
  },
  {
   "cell_type": "code",
   "execution_count": null,
   "id": "c41e1f3d",
   "metadata": {},
   "outputs": [],
   "source": [
    "from sklearn import neighbors\n",
    "from sklearn.neighbors import KNeighborsClassifier\n",
    "\n",
    "knc=KNeighborsClassifier()\n",
    "knc.fit(x_train,y_train)\n",
    "pred_knc=knc.predict(x_test)\n",
    "print('Accuracy score''\\n',accuracy_score(y_test,pred_knc))\n",
    "print('Confusion Matrix''\\n',confusion_matrix(y_test,pred_knc))\n",
    "print('Classification Report''\\n',classification_report(y_test,pred_knc))"
   ]
  },
  {
   "cell_type": "markdown",
   "id": "e7a5fb77",
   "metadata": {},
   "source": [
    "### CROSS VALIDATION"
   ]
  },
  {
   "cell_type": "code",
   "execution_count": null,
   "id": "8e2235ba",
   "metadata": {},
   "outputs": [],
   "source": [
    "test_accuracy= accuracy_score(y_test,pred_knc)\n",
    "\n",
    "from sklearn.model_selection import cross_val_score\n",
    "for i in range(2,10):\n",
    "    cv_score=cross_val_score(knc,x,y,cv=i)\n",
    "    cv_mean=cv_score.mean()\n",
    "    print(f\"At cross fold {i} the Cross Val score is {cv_mean*100} and Accuracy score is {test_accuracy*100}\")"
   ]
  },
  {
   "cell_type": "markdown",
   "id": "acb4ae16",
   "metadata": {},
   "source": [
    "**KNeighborsClassifier IS HAVING GOOD RESULTS**\n",
    "###### WE WILL FIRST CHECK OTHER MODEL RESULTS AND THEN CONCLUDE\n",
    "\n",
    "\n",
    "#### HENCE ALL MODELS ARE SHOWING VERY GOOD RESULTS GRADIENTBOOSTINGCLASSIFIER IS SHOWING HIGHEST ACCURACY SCORE\n",
    "\n",
    "##### PERFORMING GRADIENTBOOSTINGCLASSIFIER \n",
    "# Hyper parameter tuning"
   ]
  },
  {
   "cell_type": "code",
   "execution_count": null,
   "id": "4301cc6b",
   "metadata": {},
   "outputs": [],
   "source": [
    "from sklearn.model_selection import GridSearchCV\n",
    "\n",
    "#creating the parameter list to pass in GrideSearchcv\n",
    "parameters={'max_features':['auto','sqrt'],\n",
    "           'max_depth':[4,5],\n",
    "           'criterion':['mse', 'mae']}\n",
    "\n",
    "gcv=GridSearchCV(GradientBoostingClassifier(),parameters,cv=5,scoring=\"accuracy\")\n",
    "gcv.fit(x_train,y_train)\n",
    "gcv.best_params_"
   ]
  },
  {
   "cell_type": "code",
   "execution_count": null,
   "id": "4035f664",
   "metadata": {},
   "outputs": [],
   "source": [
    "gcv_pred=gcv.best_estimator_.predict(x_test)#predicting with best parameters\n",
    "accuracy_score(y_test,gcv_pred)#checking the final score\n",
    "\n",
    "print('Accuracy score''\\n',accuracy_score(y_test,gcv_pred))\n",
    "print('Confusion Matrix''\\n',confusion_matrix(y_test,gcv_pred))\n",
    "print('Classification Report''\\n',classification_report(y_test,gcv_pred))"
   ]
  },
  {
   "cell_type": "markdown",
   "id": "9cfe2d22",
   "metadata": {},
   "source": [
    "## FINALLY WE SEE GRADIENT BOOSTING CLASSIFIER IS DOING THE BEST JOB"
   ]
  },
  {
   "cell_type": "markdown",
   "id": "c4667d6c",
   "metadata": {},
   "source": [
    "# ROC AUC plot"
   ]
  },
  {
   "cell_type": "code",
   "execution_count": null,
   "id": "12d1c249",
   "metadata": {},
   "outputs": [],
   "source": [
    "from sklearn.metrics import plot_roc_curve\n",
    "\n",
    "plot_roc_curve(gcv.best_estimator_,x_test,y_test)\n",
    "plt.title(\"ROC AUC Plot\")\n",
    "plt.show()"
   ]
  },
  {
   "cell_type": "markdown",
   "id": "b2785410",
   "metadata": {},
   "source": [
    "**accuracy score=89% and auc=92%**\n",
    "\n",
    "\n",
    "## Final Prediction Submission"
   ]
  },
  {
   "cell_type": "code",
   "execution_count": null,
   "id": "820186dd",
   "metadata": {},
   "outputs": [],
   "source": [
    "import numpy as np\n",
    "a = np.array(y_test)\n",
    "predicted = np.array(gcv.best_estimator_.predict(x_test))\n",
    "df = pd.DataFrame(zip(a,predicted), columns = [\"Original\",\"Predicted\"])\n",
    "df"
   ]
  },
  {
   "cell_type": "markdown",
   "id": "54b55a4a",
   "metadata": {},
   "source": [
    "# Saving the best Model"
   ]
  },
  {
   "cell_type": "code",
   "execution_count": null,
   "id": "60e80d28",
   "metadata": {},
   "outputs": [],
   "source": [
    "# save the model to disk\n",
    "import pickle\n",
    "filename = 'census_income_project.pkl'\n",
    "pickle.dump(gcv.best_estimator_, open(filename, 'wb'))\n",
    "\n"
   ]
  },
  {
   "cell_type": "code",
   "execution_count": null,
   "id": "c99ee641",
   "metadata": {},
   "outputs": [],
   "source": [
    "# load the model from disk\n",
    "\n",
    "loaded_model = pickle.load(open(filename, 'rb'))\n",
    "result = loaded_model.score(x_test,y_test)\n",
    "print(result)\n",
    "\n"
   ]
  },
  {
   "cell_type": "code",
   "execution_count": null,
   "id": "84297077",
   "metadata": {},
   "outputs": [],
   "source": []
  }
 ],
 "metadata": {
  "kernelspec": {
   "display_name": "Python 3 (ipykernel)",
   "language": "python",
   "name": "python3"
  },
  "language_info": {
   "codemirror_mode": {
    "name": "ipython",
    "version": 3
   },
   "file_extension": ".py",
   "mimetype": "text/x-python",
   "name": "python",
   "nbconvert_exporter": "python",
   "pygments_lexer": "ipython3",
   "version": "3.9.7"
  }
 },
 "nbformat": 4,
 "nbformat_minor": 5
}
